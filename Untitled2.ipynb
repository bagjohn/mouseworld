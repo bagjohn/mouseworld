{
 "cells": [
  {
   "cell_type": "code",
   "execution_count": 1,
   "metadata": {
    "collapsed": false
   },
   "outputs": [
    {
     "name": "stdout",
     "output_type": "stream",
     "text": [
      "Building finished in 0:00:01.                                                   \n",
      "Manage the input here.\n"
     ]
    },
    {
     "ename": "NameError",
     "evalue": "name 'p_ens' is not defined",
     "output_type": "error",
     "traceback": [
      "\u001b[0;31m---------------------------------------------------------------------------\u001b[0m",
      "\u001b[0;31mNameError\u001b[0m                                 Traceback (most recent call last)",
      "\u001b[0;32m<ipython-input-1-2dda945d644c>\u001b[0m in \u001b[0;36m<module>\u001b[0;34m()\u001b[0m\n\u001b[1;32m     41\u001b[0m             \u001b[0;31m# modification by overwriting a property\u001b[0m\u001b[0;34m\u001b[0m\u001b[0;34m\u001b[0m\u001b[0m\n\u001b[1;32m     42\u001b[0m             \u001b[0mim\u001b[0m\u001b[0;34m.\u001b[0m\u001b[0mstate\u001b[0m \u001b[0;34m=\u001b[0m \u001b[0;36m0.7\u001b[0m\u001b[0;34m\u001b[0m\u001b[0m\n\u001b[0;32m---> 43\u001b[0;31m \u001b[0mplt\u001b[0m\u001b[0;34m.\u001b[0m\u001b[0mplot\u001b[0m\u001b[0;34m(\u001b[0m\u001b[0msim\u001b[0m\u001b[0;34m.\u001b[0m\u001b[0mtrange\u001b[0m\u001b[0;34m(\u001b[0m\u001b[0;34m)\u001b[0m\u001b[0;34m,\u001b[0m \u001b[0msim\u001b[0m\u001b[0;34m.\u001b[0m\u001b[0mdata\u001b[0m\u001b[0;34m[\u001b[0m\u001b[0mp_ens\u001b[0m\u001b[0;34m]\u001b[0m\u001b[0;34m)\u001b[0m\u001b[0;34m\u001b[0m\u001b[0m\n\u001b[0m\u001b[1;32m     44\u001b[0m \u001b[0mplt\u001b[0m\u001b[0;34m.\u001b[0m\u001b[0mshow\u001b[0m\u001b[0;34m(\u001b[0m\u001b[0;34m)\u001b[0m\u001b[0;34m\u001b[0m\u001b[0m\n",
      "\u001b[0;31mNameError\u001b[0m: name 'p_ens' is not defined"
     ]
    }
   ],
   "source": [
    "import nengo\n",
    "\n",
    "import matplotlib.pyplot as plt\n",
    "\n",
    "class InputManager(object):\n",
    "    \"\"\"because we need to contain state, the easier way to do that in\n",
    "    Python is to make a class\"\"\"\n",
    "\n",
    "    def __init__(self):\n",
    "        self.state = (0)\n",
    "\n",
    "    def get_input(self, modifyer):\n",
    "        \"\"\"you can modify the state value or over-write it here\n",
    "        or you can just modify the state parameter directly\"\"\"\n",
    "        print(\"Manage the input here.\")\n",
    "        self.state += modifyer\n",
    "\n",
    "    def return_output(self, t):\n",
    "        return self.state\n",
    "\n",
    "im = InputManager()\n",
    "def build_model():\n",
    "    model = nengo.Network()\n",
    "    with model:\n",
    "        in_nd = nengo.Node(im.return_output)\n",
    "        ens = nengo.Ensemble(n_neurons=500, dimensions=1)\n",
    "\n",
    "        nengo.Connection(in_nd, ens)\n",
    "\n",
    "        p_ens = nengo.Probe(ens, synapse=0.01)\n",
    "        return model \n",
    "modelB = build_model ()\n",
    "sim = nengo.Simulator(modelB)\n",
    "with sim:\n",
    "    for i in range(2000):\n",
    "        sim.step()\n",
    "        if i == 300:\n",
    "            # modification via function argument\n",
    "            im.get_input(0.5)\n",
    "        elif i == 1000:\n",
    "            # modification by overwriting a property\n",
    "            im.state = 0.7\n",
    "plt.plot(sim.trange(), sim.data[p_ens])\n",
    "plt.show()"
   ]
  },
  {
   "cell_type": "code",
   "execution_count": 12,
   "metadata": {
    "collapsed": false
   },
   "outputs": [
    {
     "name": "stdout",
     "output_type": "stream",
     "text": [
      "\r",
      "Building finished in 0:00:01.                                                   \n"
     ]
    },
    {
     "ename": "SimulationError",
     "evalue": "Function 'return_output' returned None",
     "output_type": "error",
     "traceback": [
      "\u001b[0;31m---------------------------------------------------------------------------\u001b[0m",
      "\u001b[0;31mSimulationError\u001b[0m                           Traceback (most recent call last)",
      "\u001b[0;32m<ipython-input-12-ae727744839a>\u001b[0m in \u001b[0;36m<module>\u001b[0;34m()\u001b[0m\n\u001b[1;32m     31\u001b[0m \u001b[0;32mwith\u001b[0m \u001b[0mnengo\u001b[0m\u001b[0;34m.\u001b[0m\u001b[0mSimulator\u001b[0m\u001b[0;34m(\u001b[0m\u001b[0mmodel\u001b[0m\u001b[0;34m)\u001b[0m \u001b[0;32mas\u001b[0m \u001b[0msim\u001b[0m\u001b[0;34m:\u001b[0m\u001b[0;34m\u001b[0m\u001b[0m\n\u001b[1;32m     32\u001b[0m     \u001b[0;32mfor\u001b[0m \u001b[0mi\u001b[0m \u001b[0;32min\u001b[0m \u001b[0mrange\u001b[0m\u001b[0;34m(\u001b[0m\u001b[0;36m2000\u001b[0m\u001b[0;34m)\u001b[0m\u001b[0;34m:\u001b[0m\u001b[0;34m\u001b[0m\u001b[0m\n\u001b[0;32m---> 33\u001b[0;31m         \u001b[0msim\u001b[0m\u001b[0;34m.\u001b[0m\u001b[0mstep\u001b[0m\u001b[0;34m(\u001b[0m\u001b[0;34m)\u001b[0m\u001b[0;34m\u001b[0m\u001b[0m\n\u001b[0m\u001b[1;32m     34\u001b[0m         \u001b[0;32mif\u001b[0m \u001b[0mi\u001b[0m \u001b[0;34m==\u001b[0m \u001b[0;36m300\u001b[0m\u001b[0;34m:\u001b[0m\u001b[0;34m\u001b[0m\u001b[0m\n\u001b[1;32m     35\u001b[0m             \u001b[0;31m# modification via function argument\u001b[0m\u001b[0;34m\u001b[0m\u001b[0;34m\u001b[0m\u001b[0m\n",
      "\u001b[0;32m/home/bagjohn/anaconda3/lib/python3.6/site-packages/nengo/simulator.py\u001b[0m in \u001b[0;36mstep\u001b[0;34m(self)\u001b[0m\n\u001b[1;32m    306\u001b[0m         \u001b[0;32mtry\u001b[0m\u001b[0;34m:\u001b[0m\u001b[0;34m\u001b[0m\u001b[0m\n\u001b[1;32m    307\u001b[0m             \u001b[0;32mfor\u001b[0m \u001b[0mstep_fn\u001b[0m \u001b[0;32min\u001b[0m \u001b[0mself\u001b[0m\u001b[0;34m.\u001b[0m\u001b[0m_steps\u001b[0m\u001b[0;34m:\u001b[0m\u001b[0;34m\u001b[0m\u001b[0m\n\u001b[0;32m--> 308\u001b[0;31m                 \u001b[0mstep_fn\u001b[0m\u001b[0;34m(\u001b[0m\u001b[0;34m)\u001b[0m\u001b[0;34m\u001b[0m\u001b[0m\n\u001b[0m\u001b[1;32m    309\u001b[0m         \u001b[0;32mfinally\u001b[0m\u001b[0;34m:\u001b[0m\u001b[0;34m\u001b[0m\u001b[0m\n\u001b[1;32m    310\u001b[0m             \u001b[0mnp\u001b[0m\u001b[0;34m.\u001b[0m\u001b[0mseterr\u001b[0m\u001b[0;34m(\u001b[0m\u001b[0;34m**\u001b[0m\u001b[0mold_err\u001b[0m\u001b[0;34m)\u001b[0m\u001b[0;34m\u001b[0m\u001b[0m\n",
      "\u001b[0;32m/home/bagjohn/anaconda3/lib/python3.6/site-packages/nengo/builder/operator.py\u001b[0m in \u001b[0;36mstep_simpyfunc\u001b[0;34m()\u001b[0m\n\u001b[1;32m    628\u001b[0m                 \u001b[0;32mif\u001b[0m \u001b[0my\u001b[0m \u001b[0;32mis\u001b[0m \u001b[0;32mNone\u001b[0m\u001b[0;34m:\u001b[0m  \u001b[0;31m# required since Numpy turns None into NaN\u001b[0m\u001b[0;34m\u001b[0m\u001b[0m\n\u001b[1;32m    629\u001b[0m                     raise SimulationError(\n\u001b[0;32m--> 630\u001b[0;31m                         \"Function %r returned None\" % function_name(self.fn))\n\u001b[0m\u001b[1;32m    631\u001b[0m                 \u001b[0;32mtry\u001b[0m\u001b[0;34m:\u001b[0m\u001b[0;34m\u001b[0m\u001b[0m\n\u001b[1;32m    632\u001b[0m                     \u001b[0moutput\u001b[0m\u001b[0;34m[\u001b[0m\u001b[0;34m...\u001b[0m\u001b[0;34m]\u001b[0m \u001b[0;34m=\u001b[0m \u001b[0my\u001b[0m\u001b[0;34m\u001b[0m\u001b[0m\n",
      "\u001b[0;31mSimulationError\u001b[0m: Function 'return_output' returned None"
     ]
    }
   ],
   "source": [
    "import nengo\n",
    "\n",
    "import matplotlib.pyplot as plt\n",
    "\n",
    "class InputManager(object):\n",
    "    \"\"\"because we need to contain state, the easier way to do that in\n",
    "    Python is to make a class\"\"\"\n",
    "\n",
    "    def __init__(self):\n",
    "        self.state = (0,0)\n",
    "\n",
    "    def get_input(self, modifyer):\n",
    "        \"\"\"you can modify the state value or over-write it here\n",
    "        or you can just modify the state parameter directly\"\"\"\n",
    "        print(\"Manage the input here.\")\n",
    "        self.state += modifyer\n",
    "\n",
    "    def return_output(self, t):\n",
    "        return self.state\n",
    "\n",
    "im = InputManager()\n",
    "\n",
    "with nengo.Network() as model:\n",
    "    in_nd = nengo.Node(im.return_output)\n",
    "    ens = nengo.Ensemble(n_neurons=500, dimensions=2)\n",
    "\n",
    "    nengo.Connection(in_nd, ens)\n",
    "\n",
    "    p_ens = nengo.Probe(ens, synapse=0.01)\n",
    "\n",
    "with nengo.Simulator(model) as sim:\n",
    "    for i in range(2000):\n",
    "        sim.step()\n",
    "        if i == 300:\n",
    "            # modification via function argument\n",
    "            im.state = (0.5, 0.3)\n",
    "        elif i == 1000:\n",
    "            # modification by overwriting a property\n",
    "            im.state = None\n",
    "\n",
    "plt.plot(sim.trange(), sim.data[p_ens])\n",
    "plt.show()"
   ]
  },
  {
   "cell_type": "code",
   "execution_count": 145,
   "metadata": {
    "collapsed": false
   },
   "outputs": [
    {
     "name": "stderr",
     "output_type": "stream",
     "text": [
      "/home/bagjohn/anaconda3/lib/python3.6/site-packages/ipykernel/__main__.py:39: SettingWithCopyWarning: \n",
      "A value is trying to be set on a copy of a slice from a DataFrame\n",
      "\n",
      "See the caveats in the documentation: http://pandas.pydata.org/pandas-docs/stable/indexing.html#indexing-view-versus-copy\n"
     ]
    },
    {
     "data": {
      "text/plain": [
       "array([['Wait', 3, -1, <function wait at 0x7fbe70327c80>, nan],\n",
       "       ['Search', 12, 5, <function search at 0x7fbe70327840>, 12.0],\n",
       "       ['Approach', 'Food_1', (3, 3), 1, 1.0],\n",
       "       ['Feed', 'Food_1', 1, 1, 1.0],\n",
       "       ['Feed', 'Food_1', 5, 1, 1.0]], dtype=object)"
      ]
     },
     "execution_count": 145,
     "metadata": {},
     "output_type": "execute_result"
    }
   ],
   "source": [
    "import pandas as pd\n",
    "import numpy as np\n",
    "from inspect import signature\n",
    "\n",
    "def wait(x) :\n",
    "    print('lala%i'%x)\n",
    "    \n",
    "\n",
    "def search() :\n",
    "    print('lbbla')\n",
    "    \n",
    "#df = pd.DataFrame(np.nan, index=[1], columns=('Verb','Noun_type','Noun_group','Function'))\n",
    "df = pd.DataFrame([['Wait', 3, -1, wait, None], ['Search', 12, 0, search, 12]], columns=('Verb', 'Noun_group', 'Value', 'Function', 'Arg_1'))\n",
    "\n",
    "cf = pd.DataFrame([['Approach', 'Food_2', -1, wait, np.nan]], columns=('Verb', 'Noun_group', 'Value', 'Function', 'Arg_1'))    \n",
    "df.loc[df.index.max() + 1] = ['Approach','Food_1',(3,3),1,1]\n",
    "df.loc[df.index.max() + 1] = ['Feed','Food_1',1,1,1]\n",
    "#df.append(['Feed','Food', 5, 'self.feed(food)'])\n",
    "#df['Function'][1](df['Arg_1'][1])\n",
    "sig = signature(df['Function'][0])\n",
    "num_args = len(sig.parameters)\n",
    "\n",
    "a = df.loc[(df['Verb'] == 'Feed') & (df['Noun_group'] == cf.loc[0]['Noun_group'])]\n",
    "#df['Value'].min()\n",
    "a =df.loc[[0]]\n",
    "\n",
    "a=df.loc[df['Verb'] =='Approach']\n",
    "#b =cf\n",
    "#a['Verb'][0]\n",
    "#df['Value'].idxmin()\n",
    "df['Noun_group'][1] == df['Arg_1'][1]\n",
    "df.head(n=1).loc[0]#['Verb']\n",
    "df.ix[1]\n",
    "#a['Value'].idxmax()\n",
    "#a.loc[a['Value'].idxmax()]\n",
    "g = None\n",
    "g is not None#a.loc[]\n",
    "\n",
    "df['Value'][df['Verb'] == 'Search'] = 5\n",
    "# temp = df['Verb'] == 'Wait'\n",
    "# temp2 = df['Noun_group'].isnull\n",
    "# temp2\n",
    "#cf.loc[0]['Noun_group']\n",
    "df.loc['fdfd'] = ['Feed','Food_1',1,1,1]\n",
    "df.set_value('fdfd','Value',5)\n",
    "df.as_matrix()\n"
   ]
  },
  {
   "cell_type": "code",
   "execution_count": 81,
   "metadata": {
    "collapsed": false
   },
   "outputs": [
    {
     "data": {
      "text/plain": [
       "array([ 0.18,  0.57,  0.01,  1.01,  0.69])"
      ]
     },
     "execution_count": 81,
     "metadata": {},
     "output_type": "execute_result"
    }
   ],
   "source": [
    "import numpy as np\n",
    "\n",
    "def mutate_genome(genome) :\n",
    "    #genome = self.genome\n",
    "    for i in range(len(genome)) :\n",
    "        rand = np.random.uniform(low=-1.0, high=1.0, size=None)\n",
    "        if abs(rand) <= 0.1 :\n",
    "            genome[i] += np.sign(rand) * 0.1\n",
    "            if genome[i] <= 0 :\n",
    "                genome[i] = 0\n",
    "    return np.around(genome, decimals = 2)\n",
    "\n",
    "a = [ 0.18,  0.57,  0.01,  0.91,  0.69]\n",
    "a\n",
    "len(a)\n",
    "mutate_genome(a)"
   ]
  },
  {
   "cell_type": "code",
   "execution_count": 11,
   "metadata": {
    "collapsed": false
   },
   "outputs": [
    {
     "name": "stdout",
     "output_type": "stream",
     "text": [
      "2\n",
      "2\n"
     ]
    },
    {
     "data": {
      "text/plain": [
       "0"
      ]
     },
     "execution_count": 11,
     "metadata": {},
     "output_type": "execute_result"
    }
   ],
   "source": [
    "import numpy as np\n",
    "import math\n",
    "\n",
    "class Example :\n",
    "    \n",
    "    def __init__(self) :\n",
    "        self.g = 0\n",
    "    \n",
    "def add1(x) :\n",
    "    x += 1\n",
    "    return x\n",
    "\n",
    "def xxx(y) :\n",
    "    add1(y)\n",
    "    return y\n",
    "\n",
    "w = 2\n",
    "print(w)\n",
    "w =xxx(w)\n",
    "print(w)\n",
    "\n",
    "ex = Example()\n",
    "ex.g\n",
    "\n",
    "hbjbhhbj = add1(ex.g)"
   ]
  },
  {
   "cell_type": "code",
   "execution_count": 17,
   "metadata": {
    "collapsed": false
   },
   "outputs": [
    {
     "name": "stdout",
     "output_type": "stream",
     "text": [
      "dsds\n"
     ]
    },
    {
     "data": {
      "text/html": [
       "<div>\n",
       "<table border=\"1\" class=\"dataframe\">\n",
       "  <thead>\n",
       "    <tr style=\"text-align: right;\">\n",
       "      <th></th>\n",
       "      <th>Verb</th>\n",
       "      <th>Noun_group</th>\n",
       "      <th>Duration</th>\n",
       "      <th>Benefit</th>\n",
       "      <th>Closure</th>\n",
       "    </tr>\n",
       "  </thead>\n",
       "  <tbody>\n",
       "    <tr>\n",
       "      <th>0</th>\n",
       "      <td>Wait</td>\n",
       "      <td>None</td>\n",
       "      <td>0</td>\n",
       "      <td>0</td>\n",
       "      <td>False</td>\n",
       "    </tr>\n",
       "    <tr>\n",
       "      <th>3</th>\n",
       "      <td>Wait</td>\n",
       "      <td>None</td>\n",
       "      <td>0</td>\n",
       "      <td>0</td>\n",
       "      <td>False</td>\n",
       "    </tr>\n",
       "    <tr>\n",
       "      <th>2</th>\n",
       "      <td>Wait</td>\n",
       "      <td>None</td>\n",
       "      <td>0</td>\n",
       "      <td>0</td>\n",
       "      <td>False</td>\n",
       "    </tr>\n",
       "  </tbody>\n",
       "</table>\n",
       "</div>"
      ],
      "text/plain": [
       "   Verb Noun_group  Duration  Benefit Closure\n",
       "0  Wait       None         0        0   False\n",
       "3  Wait       None         0        0   False\n",
       "2  Wait       None         0        0   False"
      ]
     },
     "execution_count": 17,
     "metadata": {},
     "output_type": "execute_result"
    }
   ],
   "source": [
    "import pandas as pd\n",
    "\n",
    "current_action = pd.DataFrame([['Wait', None, 0, 0, False]], \n",
    "                                           columns=('Verb', 'Noun_group', 'Duration', 'Benefit', 'Closure'))\n",
    "a = current_action.loc[0]\n",
    "if current_action['Verb'][0] == 'Wait' :\n",
    "    print('dsds')\n",
    "type(a)\n",
    "current_action.loc[3] = a\n",
    "b = pd.Series(['Wait', None, 0, 0, False], \n",
    "                                           index=('Verb', 'Noun_group', 'Duration', 'Benefit', 'Closure'))\n",
    "current_action.loc[2] = b\n",
    "current_action"
   ]
  },
  {
   "cell_type": "code",
   "execution_count": 2,
   "metadata": {
    "collapsed": false
   },
   "outputs": [
    {
     "data": {
      "text/plain": [
       "[0, 1, 4, 9, 16, 25, 36, 49, 64, 81]"
      ]
     },
     "execution_count": 2,
     "metadata": {},
     "output_type": "execute_result"
    }
   ],
   "source": [
    "from joblib import Parallel, delayed\n",
    "\n",
    "import multiprocessing\n",
    "\n",
    "     \n",
    "\n",
    "# what are your inputs, and what operation do you want to\n",
    "# perform on each input. For example...\n",
    "\n",
    "inputs = range(10)\n",
    "\n",
    "def processInput(i):\n",
    "\n",
    "    return i * i\n",
    "\n",
    " \n",
    "\n",
    "num_cores = multiprocessing.cpu_count()\n",
    "\n",
    "     \n",
    "\n",
    "results = Parallel(n_jobs=num_cores)(delayed(processInput)(i) for i in inputs)\n",
    "results"
   ]
  },
  {
   "cell_type": "code",
   "execution_count": 150,
   "metadata": {
    "collapsed": false
   },
   "outputs": [
    {
     "name": "stdout",
     "output_type": "stream",
     "text": [
      "Overwriting mouseworld/space_surface.py\n"
     ]
    }
   ],
   "source": [
    "%%writefile mouseworld/space_surface.py\n",
    "\n",
    "from scipy.stats import multivariate_normal\n",
    "#import matplotlib.pyplot as plt\n",
    "import numpy as np\n",
    "import pandas as pd\n",
    "\n",
    "#from mouseworld.myspace import ContinuousSpace\n",
    "\n",
    "class Space_surface :\n",
    "    def __init__(self, unique_id): \n",
    "        self.unique_id = unique_id\n",
    "        #self.space  = space\n",
    "        #self.agent_list = []\n",
    "        columns = ['weight', 'loc[x]', 'loc[y]', 'scale']\n",
    "        #dtype={'weight':float,'loc':(float, float), 'scale':int}\n",
    "        self.agent_list = pd.DataFrame(data=np.zeros((0,len(columns))), columns=columns) \n",
    "        \n",
    "    def add_agent(self, agent) :\n",
    "        unique_id = agent.unique_id\n",
    "        scale = agent.odor_std\n",
    "        weight = agent.odor_strength\n",
    "        loc = agent.pos\n",
    "        self.agent_list.loc[unique_id] = [weight, loc[0], loc[1], scale]\n",
    "        #self.agent_list.append([unique_id, weight, loc, scale])\n",
    "        \n",
    "    def update_surface(self) :\n",
    "        data = self.agent_list.as_matrix()\n",
    "        #data = self.agent_list.drop(['unique_id'], axis=1)\n",
    "        #data = data.values\n",
    "        self.surface = [[0, None]]*len(data)\n",
    "        for i in range(len(data)):\n",
    "            self.surface[i][0] = data[i,0]\n",
    "            pos = [data[i,1], data[i,2]]\n",
    "            self.surface[i][1] = multivariate_normal(pos, data[i,3])\n",
    "        #print(data)\n",
    "        \n",
    "    def update_agent_location(self, agent_unique_id, agent_pos) :\n",
    "#         temp = self.agent_list\n",
    "#         temp.ix[agent_unique_id]['loc'] = agent_pos\n",
    "#         ind = temp[:,0] == agent.unique_id\n",
    "#         temp[ind][2] = agent_pos\n",
    "        self.agent_list.set_value(agent_unique_id,'loc[x]',agent_pos[0])\n",
    "        self.agent_list.set_value(agent_unique_id,'loc[y]',agent_pos[1])\n",
    "\n",
    "        \n",
    "    def remove_agent(self, agent) :\n",
    "        temp = self.agent_list\n",
    "        #self.agent_list = temp[temp[:,0] != agent.unique_id]\n",
    "        temp.drop(temp.index[agent.unique_id])\n",
    "        self.agent_list = temp\n",
    "         \n",
    "    def get_value(self, pos) :\n",
    "        value = 0\n",
    "        for i in self.surface :\n",
    "            value += i[0] * i[1].pdf(pos)\n",
    "        return value\n",
    "    "
   ]
  },
  {
   "cell_type": "code",
   "execution_count": 136,
   "metadata": {
    "collapsed": false
   },
   "outputs": [
    {
     "ename": "ValueError",
     "evalue": "setting an array element with a sequence.",
     "output_type": "error",
     "traceback": [
      "\u001b[0;31m---------------------------------------------------------------------------\u001b[0m",
      "\u001b[0;31mValueError\u001b[0m                                Traceback (most recent call last)",
      "\u001b[0;32m<ipython-input-136-12ec10e47ab9>\u001b[0m in \u001b[0;36m<module>\u001b[0;34m()\u001b[0m\n\u001b[1;32m     10\u001b[0m \u001b[0mc\u001b[0m \u001b[0;34m=\u001b[0m \u001b[0;34m(\u001b[0m\u001b[0;36m8\u001b[0m\u001b[0;34m,\u001b[0m\u001b[0;36m7\u001b[0m\u001b[0;34m)\u001b[0m\u001b[0;34m\u001b[0m\u001b[0m\n\u001b[1;32m     11\u001b[0m \u001b[0mb\u001b[0m \u001b[0;34m=\u001b[0m \u001b[0mlist\u001b[0m\u001b[0;34m(\u001b[0m\u001b[0mc\u001b[0m\u001b[0;34m)\u001b[0m\u001b[0;34m\u001b[0m\u001b[0m\n\u001b[0;32m---> 12\u001b[0;31m \u001b[0ma\u001b[0m\u001b[0;34m.\u001b[0m\u001b[0mloc\u001b[0m\u001b[0;34m[\u001b[0m\u001b[0;34m'rrr'\u001b[0m\u001b[0;34m]\u001b[0m \u001b[0;34m=\u001b[0m \u001b[0;34m[\u001b[0m\u001b[0;36m5\u001b[0m\u001b[0;34m,\u001b[0m\u001b[0mb\u001b[0m\u001b[0;34m,\u001b[0m\u001b[0;36m4\u001b[0m\u001b[0;34m]\u001b[0m\u001b[0;34m\u001b[0m\u001b[0m\n\u001b[0m",
      "\u001b[0;32m/home/bagjohn/anaconda3/lib/python3.6/site-packages/pandas/core/indexing.py\u001b[0m in \u001b[0;36m__setitem__\u001b[0;34m(self, key, value)\u001b[0m\n\u001b[1;32m    139\u001b[0m             \u001b[0mkey\u001b[0m \u001b[0;34m=\u001b[0m \u001b[0mcom\u001b[0m\u001b[0;34m.\u001b[0m\u001b[0m_apply_if_callable\u001b[0m\u001b[0;34m(\u001b[0m\u001b[0mkey\u001b[0m\u001b[0;34m,\u001b[0m \u001b[0mself\u001b[0m\u001b[0;34m.\u001b[0m\u001b[0mobj\u001b[0m\u001b[0;34m)\u001b[0m\u001b[0;34m\u001b[0m\u001b[0m\n\u001b[1;32m    140\u001b[0m         \u001b[0mindexer\u001b[0m \u001b[0;34m=\u001b[0m \u001b[0mself\u001b[0m\u001b[0;34m.\u001b[0m\u001b[0m_get_setitem_indexer\u001b[0m\u001b[0;34m(\u001b[0m\u001b[0mkey\u001b[0m\u001b[0;34m)\u001b[0m\u001b[0;34m\u001b[0m\u001b[0m\n\u001b[0;32m--> 141\u001b[0;31m         \u001b[0mself\u001b[0m\u001b[0;34m.\u001b[0m\u001b[0m_setitem_with_indexer\u001b[0m\u001b[0;34m(\u001b[0m\u001b[0mindexer\u001b[0m\u001b[0;34m,\u001b[0m \u001b[0mvalue\u001b[0m\u001b[0;34m)\u001b[0m\u001b[0;34m\u001b[0m\u001b[0m\n\u001b[0m\u001b[1;32m    142\u001b[0m \u001b[0;34m\u001b[0m\u001b[0m\n\u001b[1;32m    143\u001b[0m     \u001b[0;32mdef\u001b[0m \u001b[0m_has_valid_type\u001b[0m\u001b[0;34m(\u001b[0m\u001b[0mself\u001b[0m\u001b[0;34m,\u001b[0m \u001b[0mk\u001b[0m\u001b[0;34m,\u001b[0m \u001b[0maxis\u001b[0m\u001b[0;34m)\u001b[0m\u001b[0;34m:\u001b[0m\u001b[0;34m\u001b[0m\u001b[0m\n",
      "\u001b[0;32m/home/bagjohn/anaconda3/lib/python3.6/site-packages/pandas/core/indexing.py\u001b[0m in \u001b[0;36m_setitem_with_indexer\u001b[0;34m(self, indexer, value)\u001b[0m\n\u001b[1;32m    249\u001b[0m                 val = list(value.values()) if isinstance(value,\n\u001b[1;32m    250\u001b[0m                                                          dict) else value\n\u001b[0;32m--> 251\u001b[0;31m                 \u001b[0mtake_split_path\u001b[0m \u001b[0;34m=\u001b[0m \u001b[0;32mnot\u001b[0m \u001b[0mblk\u001b[0m\u001b[0;34m.\u001b[0m\u001b[0m_can_hold_element\u001b[0m\u001b[0;34m(\u001b[0m\u001b[0mval\u001b[0m\u001b[0;34m)\u001b[0m\u001b[0;34m\u001b[0m\u001b[0m\n\u001b[0m\u001b[1;32m    252\u001b[0m \u001b[0;34m\u001b[0m\u001b[0m\n\u001b[1;32m    253\u001b[0m         \u001b[0;32mif\u001b[0m \u001b[0misinstance\u001b[0m\u001b[0;34m(\u001b[0m\u001b[0mindexer\u001b[0m\u001b[0;34m,\u001b[0m \u001b[0mtuple\u001b[0m\u001b[0;34m)\u001b[0m \u001b[0;32mand\u001b[0m \u001b[0mlen\u001b[0m\u001b[0;34m(\u001b[0m\u001b[0mindexer\u001b[0m\u001b[0;34m)\u001b[0m \u001b[0;34m==\u001b[0m \u001b[0mlen\u001b[0m\u001b[0;34m(\u001b[0m\u001b[0mself\u001b[0m\u001b[0;34m.\u001b[0m\u001b[0mobj\u001b[0m\u001b[0;34m.\u001b[0m\u001b[0maxes\u001b[0m\u001b[0;34m)\u001b[0m\u001b[0;34m:\u001b[0m\u001b[0;34m\u001b[0m\u001b[0m\n",
      "\u001b[0;32m/home/bagjohn/anaconda3/lib/python3.6/site-packages/pandas/core/internals.py\u001b[0m in \u001b[0;36m_can_hold_element\u001b[0;34m(self, element)\u001b[0m\n\u001b[1;32m   1553\u001b[0m     \u001b[0;32mdef\u001b[0m \u001b[0m_can_hold_element\u001b[0m\u001b[0;34m(\u001b[0m\u001b[0mself\u001b[0m\u001b[0;34m,\u001b[0m \u001b[0melement\u001b[0m\u001b[0;34m)\u001b[0m\u001b[0;34m:\u001b[0m\u001b[0;34m\u001b[0m\u001b[0m\n\u001b[1;32m   1554\u001b[0m         \u001b[0;32mif\u001b[0m \u001b[0mis_list_like\u001b[0m\u001b[0;34m(\u001b[0m\u001b[0melement\u001b[0m\u001b[0;34m)\u001b[0m\u001b[0;34m:\u001b[0m\u001b[0;34m\u001b[0m\u001b[0m\n\u001b[0;32m-> 1555\u001b[0;31m             \u001b[0melement\u001b[0m \u001b[0;34m=\u001b[0m \u001b[0mnp\u001b[0m\u001b[0;34m.\u001b[0m\u001b[0marray\u001b[0m\u001b[0;34m(\u001b[0m\u001b[0melement\u001b[0m\u001b[0;34m)\u001b[0m\u001b[0;34m\u001b[0m\u001b[0m\n\u001b[0m\u001b[1;32m   1556\u001b[0m             \u001b[0mtipo\u001b[0m \u001b[0;34m=\u001b[0m \u001b[0melement\u001b[0m\u001b[0;34m.\u001b[0m\u001b[0mdtype\u001b[0m\u001b[0;34m.\u001b[0m\u001b[0mtype\u001b[0m\u001b[0;34m\u001b[0m\u001b[0m\n\u001b[1;32m   1557\u001b[0m             return (issubclass(tipo, (np.floating, np.integer)) and\n",
      "\u001b[0;31mValueError\u001b[0m: setting an array element with a sequence."
     ]
    }
   ],
   "source": [
    "from mouseworld.space_surface import Space_surface\n",
    "\n",
    "\n",
    "a = Space_surface('aaa')\n",
    "\n",
    "columns = ['weight', 'loc', 'scale']\n",
    "#a = pd.DataFrame(data=np.zeros((0,len(columns))), dtype=dtype, columns=columns) \n",
    "a = pd.DataFrame(data=np.zeros((0,len(columns))), columns=columns) \n",
    "#\n",
    "c = (8,7)\n",
    "b = list(c)\n",
    "a.loc['rrr'] = [5,b,4]"
   ]
  },
  {
   "cell_type": "code",
   "execution_count": 153,
   "metadata": {
    "collapsed": false
   },
   "outputs": [
    {
     "data": {
      "text/plain": [
       "[0.002, 0]"
      ]
     },
     "execution_count": 153,
     "metadata": {},
     "output_type": "execute_result"
    }
   ],
   "source": [
    "d = dict(zip(['a', 'b', 'c'], [[0.002, 0]]*3))\n",
    "d['a']"
   ]
  },
  {
   "cell_type": "code",
   "execution_count": 58,
   "metadata": {
    "collapsed": false
   },
   "outputs": [
    {
     "data": {
      "image/png": "[encoded data removed]",
      "text/plain": [
       "<matplotlib.figure.Figure at 0x7fbe766db8d0>"
      ]
     },
     "metadata": {},
     "output_type": "display_data"
    },
    {
     "name": "stdout",
     "output_type": "stream",
     "text": [
      "0.00237556679555\n",
      "0.0\n",
      "1.39957278109e-111\n",
      "0.00237556679555\n",
      "0.00301663601969\n",
      "0.0\n",
      "2.76667002696e-110\n",
      "0.00301663601969\n"
     ]
    }
   ],
   "source": [
    "from scipy.stats import multivariate_normal\n",
    "import matplotlib.pyplot as plt\n",
    "\n",
    "from mouseworld.myspace import ContinuousSpace\n",
    "\n",
    "width = 100\n",
    "height = 100\n",
    "\n",
    "space = ContinuousSpace(width, height, True, x_min=0, y_min=0,\n",
    "            grid_width=width, grid_height=height)\n",
    "\n",
    "x, y = np.mgrid[0:width:1, 0:height:1]\n",
    "pos = np.empty(x.shape + (2,))\n",
    "pos[:, :, 0] = x; pos[:, :, 1] = y\n",
    "rv1 = multivariate_normal([5, 5], 32) \n",
    "rv2 = multivariate_normal([80, 80], 8)\n",
    "rv3 = multivariate_normal([90, 3], 16)\n",
    "\n",
    "def rv(x) :\n",
    "    rv = rv1.pdf(x) + rv2.pdf(x) + rv3.pdf(x)\n",
    "    return rv\n",
    "plt.contourf(x, y, rv(pos))\n",
    "#plt.contourf(x, y, rv2.pdf(pos))\n",
    "#plt.contourf(x, y, 0.5*rv.pdf(pos) + 0.5*rv2.pdf(pos))\n",
    "plt.show()\n",
    "c = [1,1]\n",
    "a = [0.5, -0.2]\n",
    "print(rv1.pdf(a))\n",
    "print(rv2.pdf(a))\n",
    "print(rv3.pdf(a))\n",
    "print(rv(a))\n",
    "\n",
    "print(rv1.pdf(c))\n",
    "print(rv2.pdf(c))\n",
    "print(rv3.pdf(c))\n",
    "print(rv(c))\n",
    "\n",
    "#pos[:, :, 0]\n",
    "#pos\n"
   ]
  },
  {
   "cell_type": "code",
   "execution_count": 37,
   "metadata": {
    "collapsed": false
   },
   "outputs": [
    {
     "data": {
      "image/png": "[encoded data removed]",
      "text/plain": [
       "<matplotlib.figure.Figure at 0x7fbe7d226780>"
      ]
     },
     "metadata": {},
     "output_type": "display_data"
    }
   ],
   "source": [
    "\"\"\"\n",
    "=========================================\n",
    "Density Estimation for a Gaussian mixture\n",
    "=========================================\n",
    "Plot the density estimation of a mixture of two Gaussians. Data is\n",
    "generated from two Gaussians with different centers and covariance\n",
    "matrices.\n",
    "\"\"\"\n",
    "\n",
    "import numpy as np\n",
    "import matplotlib.pyplot as plt\n",
    "from matplotlib.colors import LogNorm\n",
    "from sklearn import mixture\n",
    "\n",
    "n_samples = 300\n",
    "\n",
    "# generate random sample, two components\n",
    "np.random.seed(0)\n",
    "\n",
    "# generate spherical data centered on (20, 20)\n",
    "shifted_gaussian = np.random.randn(n_samples, 2) + np.array([20, 20])\n",
    "\n",
    "# generate zero centered stretched Gaussian data\n",
    "C = np.array([[0., -0.7], [3.5, .7]])\n",
    "stretched_gaussian = np.dot(np.random.randn(n_samples, 2), C)\n",
    "\n",
    "# concatenate the two datasets into the final training set\n",
    "X_train = np.vstack([shifted_gaussian, stretched_gaussian])\n",
    "\n",
    "# fit a Gaussian Mixture Model with two components\n",
    "clf = mixture.GaussianMixture(n_components=2, covariance_type='full')\n",
    "clf.fit(X_train)\n",
    "\n",
    "# display predicted scores by the model as a contour plot\n",
    "x = np.linspace(-20., 30.)\n",
    "y = np.linspace(-20., 40.)\n",
    "X, Y = np.meshgrid(x, y)\n",
    "XX = np.array([X.ravel(), Y.ravel()]).T\n",
    "Z = -clf.score_samples(XX)\n",
    "Z = Z.reshape(X.shape)\n",
    "\n",
    "CS = plt.contour(X, Y, Z, norm=LogNorm(vmin=1.0, vmax=1000.0),\n",
    "                 levels=np.logspace(0, 3, 10))\n",
    "CB = plt.colorbar(CS, shrink=0.8, extend='both')\n",
    "plt.scatter(X_train[:, 0], X_train[:, 1], .8)\n",
    "\n",
    "plt.title('Negative log-likelihood predicted by a GMM')\n",
    "plt.axis('tight')\n",
    "plt.show()"
   ]
  },
  {
   "cell_type": "code",
   "execution_count": 16,
   "metadata": {
    "collapsed": false
   },
   "outputs": [
    {
     "data": {
      "text/plain": [
       "'fdsfs'"
      ]
     },
     "execution_count": 16,
     "metadata": {},
     "output_type": "execute_result"
    }
   ],
   "source": [
    "import numpy as np\n",
    "\n",
    "a = ['rere','trtr','fdsfs']\n",
    "b = ['ewew', 'cdcd', 'sasa']\n",
    "#np.concatenate((a, b), axis=0)[2]\n",
    "(a+b)[2]"
   ]
  },
  {
   "cell_type": "code",
   "execution_count": 94,
   "metadata": {
    "collapsed": false
   },
   "outputs": [
    {
     "name": "stdout",
     "output_type": "stream",
     "text": [
      "dssd\n"
     ]
    }
   ],
   "source": [
    "from numpy.random import randn\n",
    "from pandas import DataFrame\n",
    "df = DataFrame(randn(10, 2), columns=('kaka','lala'))\n",
    "a = df.query('kaka == 0.2' and 'lala == 0.2')\n",
    "if a.empty :\n",
    "    print('dssd')\n",
    "else :\n",
    "    print('dsds')\n",
    "#df[df.a > df.b]  # same result as the previous expression\n"
   ]
  },
  {
   "cell_type": "code",
   "execution_count": 67,
   "metadata": {
    "collapsed": false
   },
   "outputs": [
    {
     "ename": "TypeError",
     "evalue": "search() takes 0 positional arguments but 1 was given",
     "output_type": "error",
     "traceback": [
      "\u001b[0;31m---------------------------------------------------------------------------\u001b[0m",
      "\u001b[0;31mTypeError\u001b[0m                                 Traceback (most recent call last)",
      "\u001b[0;32m<ipython-input-67-fb84a457e125>\u001b[0m in \u001b[0;36m<module>\u001b[0;34m()\u001b[0m\n\u001b[1;32m      4\u001b[0m     \u001b[0mprint\u001b[0m\u001b[0;34m(\u001b[0m\u001b[0;34m'lbbla'\u001b[0m\u001b[0;34m)\u001b[0m\u001b[0;34m\u001b[0m\u001b[0m\n\u001b[1;32m      5\u001b[0m \u001b[0;31m#a = [4,5,,3]\u001b[0m\u001b[0;34m\u001b[0m\u001b[0;34m\u001b[0m\u001b[0m\n\u001b[0;32m----> 6\u001b[0;31m \u001b[0msearch\u001b[0m\u001b[0;34m(\u001b[0m\u001b[0;34m(\u001b[0m\u001b[0;34m)\u001b[0m\u001b[0;34m)\u001b[0m\u001b[0;34m\u001b[0m\u001b[0m\n\u001b[0m",
      "\u001b[0;31mTypeError\u001b[0m: search() takes 0 positional arguments but 1 was given"
     ]
    }
   ],
   "source": [
    "import numpy as np\n",
    "\n",
    "def search() :\n",
    "    print('lbbla')\n",
    "#a = [4,5,,3]\n",
    "search(())"
   ]
  },
  {
   "cell_type": "code",
   "execution_count": 26,
   "metadata": {
    "collapsed": false
   },
   "outputs": [
    {
     "name": "stdout",
     "output_type": "stream",
     "text": [
      "new22\n",
      "new\n",
      "new\n",
      "new\n",
      "new\n"
     ]
    },
    {
     "data": {
      "text/plain": [
       "243.0"
      ]
     },
     "execution_count": 26,
     "metadata": {},
     "output_type": "execute_result"
    }
   ],
   "source": [
    "def a(x):\n",
    "    y = x*x*x\n",
    "    return y\n",
    "\n",
    "def b(x):\n",
    "    y = x*2\n",
    "    return y\n",
    "\n",
    "def c(x):\n",
    "    y = x/2\n",
    "    return y\n",
    "\n",
    "def d(x):\n",
    "    y = c(x)*b(x)*a(x)\n",
    "    return y\n",
    "\n",
    "def e(z):\n",
    "    print('lala_%s'%z)\n",
    "    \n",
    "ls=[]\n",
    "print('new22')\n",
    "ls.append(c(3))\n",
    "ls.append(b(3))\n",
    "ls.append(3)\n",
    "ls.append(d)\n",
    "print('new')\n",
    "ls[0]\n",
    "print('new')\n",
    "ls[1]\n",
    "print('new')\n",
    "ls[2]\n",
    "print('new')\n",
    "ls[3](3)\n"
   ]
  },
  {
   "cell_type": "code",
   "execution_count": null,
   "metadata": {
    "collapsed": true
   },
   "outputs": [],
   "source": []
  }
 ],
 "metadata": {
  "kernelspec": {
   "display_name": "Python 3",
   "language": "python",
   "name": "python3"
  },
  "language_info": {
   "codemirror_mode": {
    "name": "ipython",
    "version": 3
   },
   "file_extension": ".py",
   "mimetype": "text/x-python",
   "name": "python",
   "nbconvert_exporter": "python",
   "pygments_lexer": "ipython3",
   "version": "3.6.0"
  }
 },
 "nbformat": 4,
 "nbformat_minor": 2
}
