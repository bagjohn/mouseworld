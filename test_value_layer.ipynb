{
 "cells": [
  {
   "cell_type": "code",
   "execution_count": 5,
   "metadata": {
    "collapsed": false
   },
   "outputs": [
    {
     "ename": "SyntaxError",
     "evalue": "invalid syntax (<ipython-input-5-ba2c5d3ad4e3>, line 29)",
     "output_type": "error",
     "traceback": [
      "\u001b[0;36m  File \u001b[0;32m\"<ipython-input-5-ba2c5d3ad4e3>\"\u001b[0;36m, line \u001b[0;32m29\u001b[0m\n\u001b[0;31m    print ctypes.CDLL('library.so').square(4) # linux or when mingw used on windows# from decimal import *\u001b[0m\n\u001b[0m               ^\u001b[0m\n\u001b[0;31mSyntaxError\u001b[0m\u001b[0;31m:\u001b[0m invalid syntax\n"
     ]
    }
   ],
   "source": [
    "import numpy as np\n",
    "import matplotlib.pyplot as plt\n",
    "from mouseworld.myspace import *\n",
    "import time\n",
    "import ctypes\n",
    "\n",
    "# getcontext().prec = 7\n",
    "\n",
    "grid = Value_layer('example',40,40,True)\n",
    "#grid2 = Value_layer(100,100,True)\n",
    "#grid.add_value((99,99),100)\n",
    "\n",
    "def show(grid) :\n",
    "    cell_values = np.zeros((grid.width, grid.height))\n",
    "    for cell in grid.coord_iter():\n",
    "        cell_value, x, y = cell\n",
    "        cell_values[x][y] = cell_value\n",
    "    plt.imshow(cell_values, interpolation='nearest')\n",
    "    plt.colorbar()\n",
    "    plt.show()\n",
    "\n",
    "#show(grid)\n",
    "for i in range(40) :\n",
    "    grid.add_value((20,20),2)\n",
    "#     grid.add_value((i,i),1)\n",
    "#     grid.add_value((80,20),0.3)\n",
    "#     grid.add_value((50,i),0.3)\n",
    "#     grid.diffuse(0.95,0.8)\n",
    "    print ctypes.CDLL('library.so').square(4) # linux or when mingw used on windows# from decimal import *\n",
    "\n",
    "#     show(grid)\n",
    "#     time.sleep(1)\n",
    "\n",
    "# show(grid)\n",
    "\n",
    "# for i in range(10) :\n",
    "#     print(grid.get_value((i*10+9,i*10+9)))\n",
    "\n",
    "# for i in range(10) :\n",
    "#     print(grid.get_value((50,i*10+9)))\n",
    "\n",
    "# for i in range(10) :\n",
    "#     print(grid.get_value((20+i,80+i)))\n",
    "    \n",
    "for i in range(10) :\n",
    "    \n",
    "    print(grid.get_value((20+i,20+i)))\n",
    "#     print(grid.get_value((90,90)))\n",
    "#     print(grid.get_value((96,96)))\n",
    "#     print(grid.get_value((97,97)))\n",
    "#     print(grid.get_value((98,98)))\n",
    "#     print(grid.get_value((99,99)))\n"
   ]
  },
  {
   "cell_type": "code",
   "execution_count": null,
   "metadata": {
    "collapsed": true
   },
   "outputs": [],
   "source": []
  }
 ],
 "metadata": {
  "kernelspec": {
   "display_name": "Python 3",
   "language": "python",
   "name": "python3"
  },
  "language_info": {
   "codemirror_mode": {
    "name": "ipython",
    "version": 3
   },
   "file_extension": ".py",
   "mimetype": "text/x-python",
   "name": "python",
   "nbconvert_exporter": "python",
   "pygments_lexer": "ipython3",
   "version": "3.6.0"
  }
 },
 "nbformat": 4,
 "nbformat_minor": 2
}
