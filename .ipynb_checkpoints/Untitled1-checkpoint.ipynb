{
 "cells": [
  {
   "cell_type": "code",
   "execution_count": 2,
   "metadata": {
    "collapsed": false
   },
   "outputs": [
    {
     "name": "stdout",
     "output_type": "stream",
     "text": [
      "0.0012989044189453125\n",
      "9.356199264526367\n"
     ]
    },
    {
     "data": {
      "image/png": "[encoded data removed]",
      "text/plain": [
       "<matplotlib.figure.Figure at 0x7f7f92b17cc0>"
      ]
     },
     "metadata": {},
     "output_type": "display_data"
    },
    {
     "data": {
      "image/png": "[encoded data removed]",
      "text/plain": [
       "<matplotlib.figure.Figure at 0x7f7f8edb2278>"
      ]
     },
     "metadata": {},
     "output_type": "display_data"
    },
    {
     "data": {
      "image/png": "[encoded data removed]",
      "text/plain": [
       "<matplotlib.figure.Figure at 0x7f7f8ec76438>"
      ]
     },
     "metadata": {},
     "output_type": "display_data"
    },
    {
     "data": {
      "image/png": "[encoded data removed]",
      "text/plain": [
       "<matplotlib.figure.Figure at 0x7f7f8ef87978>"
      ]
     },
     "metadata": {},
     "output_type": "display_data"
    }
   ],
   "source": [
    "#%%writefile mouseworld/evolve_Value_Layer.py\n",
    "\n",
    "import numpy as np\n",
    "import matplotlib.pyplot as plt\n",
    "from mouseworld.myspace import *\n",
    "from joblib import Parallel, delayed\n",
    "import multiprocessing\n",
    "import time\n",
    "\n",
    "a = time.time()\n",
    "grid0 = Value_layer('example0',100,100)\n",
    "grid1 = Value_layer('example1',100,100)\n",
    "grid2 = Value_layer('example2',100,100)\n",
    "grid3 = Value_layer('example3',100,100)\n",
    "\n",
    "num_cores = multiprocessing.cpu_count()\n",
    "def show(grid) :\n",
    "    cell_values = np.zeros((grid.width, grid.height))\n",
    "    for cell in grid.coord_iter():\n",
    "        cell_value, x, y = cell\n",
    "        cell_values[x][y] = cell_value\n",
    "    plt.imshow(cell_values, interpolation='nearest')\n",
    "    plt.colorbar()\n",
    "    plt.show()\n",
    "\n",
    "b = time.time()   \n",
    "for i in range(10) :\n",
    "    grid0.add_value((50,50),1)\n",
    "    grid1.add_value((50,50),1)\n",
    "    grid2.add_value((50,50),1)\n",
    "    grid3.add_value((50,50),1)\n",
    "#     Parallel(n_jobs=num_cores)(delayed(layer.diffuse)(0.95,0.8) for layer in [grid0,grid1,grid2,grid3])\n",
    "    grid0.diffuse(0.95,0.8)\n",
    "    grid1.diffuse(0.95,0.8)\n",
    "    grid2.diffuse(0.95,0.8)\n",
    "    grid3.diffuse(0.95,0.8)\n",
    "\n",
    "c = time.time()\n",
    "\n",
    "print(b-a)\n",
    "print(c-b)\n",
    "\n",
    "show(grid0)\n",
    "show(grid1)\n",
    "show(grid2)\n",
    "show(grid3)\n",
    "\n",
    "# print(grid.get_value((50,50)))\n",
    "# print(grid.get_value((45,45)))\n",
    "# print(grid.get_value((40,40)))\n",
    "# print(grid.get_value((35,35)))\n",
    "# print(grid.get_value((30,30)))\n",
    "# print(grid.get_value((25,25)))\n",
    "# print(grid.get_value((20,20)))"
   ]
  },
  {
   "cell_type": "code",
   "execution_count": 26,
   "metadata": {
    "collapsed": false
   },
   "outputs": [
    {
     "data": {
      "text/plain": [
       "{'a': {'aa': 0, 'ba': 4, 'ca': 0, 'da': 0, 'ea': 0},\n",
       " 'b': {'aa': 0, 'ba': 4, 'ca': 0, 'da': 0, 'ea': 0},\n",
       " 'c': {'aa': 0, 'ba': 4, 'ca': 0, 'da': 0, 'ea': 0},\n",
       " 'd': {'aa': 0, 'ba': 4, 'ca': 0, 'da': 0, 'ea': 0},\n",
       " 'e': {'aa': 0, 'ba': 4, 'ca': 0, 'da': 0, 'ea': 0}}"
      ]
     },
     "execution_count": 26,
     "metadata": {},
     "output_type": "execute_result"
    }
   ],
   "source": [
    "import numpy as np\n",
    "\n",
    "b = dict(zip(['aa', 'ba', 'ca', 'da', 'ea'],[0] * 5))\n",
    "#a = dict(zip(['a', 'b', 'c', 'd', 'e'],[np.zeros(5)] * 5))\n",
    "a = dict(zip(['a', 'b', 'c', 'd', 'e'],[b]*5))\n",
    "# a['c'][2] = 5\n",
    "#a['a'] = 5\n",
    "# sum(a['b'])\n",
    "# a['b'][3]=4\n",
    "a['a']['ba'] = 4\n",
    "a"
   ]
  },
  {
   "cell_type": "code",
   "execution_count": 55,
   "metadata": {
    "collapsed": false
   },
   "outputs": [
    {
     "data": {
      "text/html": [
       "<div>\n",
       "<table border=\"1\" class=\"dataframe\">\n",
       "  <thead>\n",
       "    <tr style=\"text-align: right;\">\n",
       "      <th></th>\n",
       "      <th>o1</th>\n",
       "      <th>o2</th>\n",
       "      <th>o3</th>\n",
       "      <th>o4</th>\n",
       "      <th>o5</th>\n",
       "    </tr>\n",
       "  </thead>\n",
       "  <tbody>\n",
       "    <tr>\n",
       "      <th>g1</th>\n",
       "      <td>0.0</td>\n",
       "      <td>0.0</td>\n",
       "      <td>-2.0</td>\n",
       "      <td>0.0</td>\n",
       "      <td>0.0</td>\n",
       "    </tr>\n",
       "    <tr>\n",
       "      <th>g2</th>\n",
       "      <td>0.0</td>\n",
       "      <td>0.0</td>\n",
       "      <td>0.0</td>\n",
       "      <td>0.0</td>\n",
       "      <td>0.0</td>\n",
       "    </tr>\n",
       "    <tr>\n",
       "      <th>g3</th>\n",
       "      <td>2.0</td>\n",
       "      <td>0.0</td>\n",
       "      <td>4.0</td>\n",
       "      <td>0.0</td>\n",
       "      <td>0.0</td>\n",
       "    </tr>\n",
       "    <tr>\n",
       "      <th>g4</th>\n",
       "      <td>0.0</td>\n",
       "      <td>0.0</td>\n",
       "      <td>0.0</td>\n",
       "      <td>0.0</td>\n",
       "      <td>0.0</td>\n",
       "    </tr>\n",
       "    <tr>\n",
       "      <th>g5</th>\n",
       "      <td>0.0</td>\n",
       "      <td>0.0</td>\n",
       "      <td>0.0</td>\n",
       "      <td>0.0</td>\n",
       "      <td>0.0</td>\n",
       "    </tr>\n",
       "  </tbody>\n",
       "</table>\n",
       "</div>"
      ],
      "text/plain": [
       "     o1   o2   o3   o4   o5\n",
       "g1  0.0  0.0 -2.0  0.0  0.0\n",
       "g2  0.0  0.0  0.0  0.0  0.0\n",
       "g3  2.0  0.0  4.0  0.0  0.0\n",
       "g4  0.0  0.0  0.0  0.0  0.0\n",
       "g5  0.0  0.0  0.0  0.0  0.0"
      ]
     },
     "execution_count": 55,
     "metadata": {},
     "output_type": "execute_result"
    }
   ],
   "source": [
    "import pandas as pd\n",
    "\n",
    "a=['g1', 'g2', 'g3', 'g4', 'g5']\n",
    "b=['o1', 'o2', 'o3', 'o4', 'o5']\n",
    "c=pd.DataFrame([np.zeros(5)] * 5, index = a, columns = b)\n",
    "\n",
    "c.ix['g3']['o3'] = 4\n",
    "# sum(c.ix['g2'])\n",
    "d = c.ix['g3']\n",
    "d['o1'] = 2\n",
    "d\n",
    "c.ix['g1']['o3'] = -2\n",
    "c['o3'].index.min()\n",
    "c\n"
   ]
  },
  {
   "cell_type": "code",
   "execution_count": 57,
   "metadata": {
    "collapsed": false
   },
   "outputs": [
    {
     "data": {
      "text/plain": [
       "[0.0, 0]"
      ]
     },
     "execution_count": 57,
     "metadata": {},
     "output_type": "execute_result"
    }
   ],
   "source": [
    "import numpy as np\n",
    "sensor_vector = [0,0]\n",
    "sensor_vector = [np.mean(sensor_vector), sensor_vector[0]-sensor_vector[1]]\n",
    "sensor_vector"
   ]
  },
  {
   "cell_type": "code",
   "execution_count": 94,
   "metadata": {
    "collapsed": false
   },
   "outputs": [
    {
     "name": "stdout",
     "output_type": "stream",
     "text": [
      "True\n",
      "False\n"
     ]
    },
    {
     "data": {
      "text/plain": [
       "[[0, 5], [0, 5], [0, 5]]"
      ]
     },
     "execution_count": 94,
     "metadata": {},
     "output_type": "execute_result"
    }
   ],
   "source": [
    "a = [[0,0]] * 3\n",
    "b = [[0,0],[0,0],[0,0]]\n",
    "print(b==a)\n",
    "a[1][1] = 5\n",
    "b[1][1] = 5\n",
    "print(b==a)\n",
    "a\n"
   ]
  },
  {
   "cell_type": "code",
   "execution_count": 97,
   "metadata": {
    "collapsed": false
   },
   "outputs": [
    {
     "data": {
      "text/plain": [
       "1"
      ]
     },
     "execution_count": 97,
     "metadata": {},
     "output_type": "execute_result"
    }
   ],
   "source": [
    "primary_values = dict(zip(['a','b'], [1]*2))\n",
    "primary_values['a']"
   ]
  },
  {
   "cell_type": "code",
   "execution_count": 95,
   "metadata": {
    "collapsed": false
   },
   "outputs": [
    {
     "data": {
      "text/plain": [
       "[[0, 5], [0, 5], [0, 5]]"
      ]
     },
     "execution_count": 95,
     "metadata": {},
     "output_type": "execute_result"
    }
   ],
   "source": [
    "a = [[0,0]] * 3\n",
    "a[1][1] = 5\n",
    "a"
   ]
  },
  {
   "cell_type": "code",
   "execution_count": 13,
   "metadata": {
    "collapsed": false
   },
   "outputs": [
    {
     "data": {
      "text/plain": [
       "{'A': 0,\n",
       " 'B': 6.5132155990000005,\n",
       " 'C': 0,\n",
       " 'D': 3.9079293594,\n",
       " 'E': 0,\n",
       " 'F': 10.421144958400001,\n",
       " 'G': 11.7237880782,\n",
       " 'H': 1.3026431198000001,\n",
       " 'I': 0,\n",
       " 'J': 6.5132155990000005}"
      ]
     },
     "execution_count": 13,
     "metadata": {},
     "output_type": "execute_result"
    }
   ],
   "source": [
    "\n",
    "\n",
    "def update_odor_values (gain) :\n",
    "        vector = sensor_vector\n",
    "        values = secondary_values\n",
    "        for i in range(len(vector)) :\n",
    "            if vector[i][0] > 0 :\n",
    "                \n",
    "                # BIO : CLASSICAL CONDITIONING\n",
    "                error = gain * vector[i][0] - values[odor_layer_names[i]]\n",
    "                values[odor_layer_names[i]] += error * 0.1\n",
    "        return values\n",
    "\n",
    "sensor_vector = [[0,0], [0.5, 0.5], [0,0], [0.3, 0], [0,0], [0.8,0.4], [0.9, 0], [0.1,0.9], [0,0], [0.5,0.8]]\n",
    "odor_layer_names =['A', 'B', 'C', 'D', 'E', 'F', 'G', 'H', 'I', 'J']    \n",
    "secondary_values = dict(zip(odor_layer_names, [0]*10))\n",
    "\n",
    "for i in range(10):\n",
    "    secondary_values = update_odor_values(20)\n",
    "\n",
    "secondary_values"
   ]
  }
 ],
 "metadata": {
  "kernelspec": {
   "display_name": "Python 3",
   "language": "python",
   "name": "python3"
  },
  "language_info": {
   "codemirror_mode": {
    "name": "ipython",
    "version": 3
   },
   "file_extension": ".py",
   "mimetype": "text/x-python",
   "name": "python",
   "nbconvert_exporter": "python",
   "pygments_lexer": "ipython3",
   "version": "3.6.0"
  }
 },
 "nbformat": 4,
 "nbformat_minor": 2
}
