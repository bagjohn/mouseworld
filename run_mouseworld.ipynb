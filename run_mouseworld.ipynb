{
 "cells": [
  {
   "cell_type": "code",
   "execution_count": 2,
   "metadata": {
    "collapsed": false
   },
   "outputs": [
    {
     "name": "stdout",
     "output_type": "stream",
     "text": [
      "Overwriting mouseworld_run.py\n"
     ]
    }
   ],
   "source": [
    "%%writefile mouseworld_run.py\n",
    "\n",
    "#from ipywidgets import widgets\n",
    "from mouseworld import mouseworld\n",
    "import time\n",
    "\n",
    "empty_model = mouseworld.Mouseworld(50, 5, 100, 40, 100, 100)\n",
    "#for i in range(5000) :\n",
    "counter = 0\n",
    "\n",
    "#a = time.time()\n",
    "for i in range(100) :\n",
    "    empty_model.diffuse_odor_layers_parallel(empty_model.odor_layers)\n",
    "#b = time.time()\n",
    "#print(b-a)\n",
    "while empty_model.num_mice > 0 :\n",
    "#for i in range(20) :\n",
    "    counter += 1\n",
    "    print('sim step : %i'%counter)\n",
    "    #print('num_mice : %i'%empty_model.num_mice)\n",
    "    #print('num_unborn_mice : %i'%empty_model.num_unborn_mice)\n",
    "    #print('empty_model.schedule.get_agent_count() : %i'%empty_model.schedule.get_agent_count())\n",
    "    empty_model.step()\n",
    "\n",
    "empty_model.final_datacollector.collect(empty_model,empty_model.schedule)\n",
    "    \n",
    "gini4 = empty_model.final_datacollector.get_agent_vars_dataframe()\n",
    "#gini1 = empty_model.datacollector.get_model_vars_dataframe()\n",
    "gini2 = empty_model.test_datacollector.get_agent_vars_dataframe()\n",
    "#gini3 = empty_model.predator_datacollector.get_agent_vars_dataframe()\n",
    "gini4.to_csv('results2.csv', sep='\\t')\n",
    "gini2.to_csv('results.csv', sep='\\t')\n",
    "#gini2\n",
    "gini4"
   ]
  },
  {
   "cell_type": "code",
   "execution_count": null,
   "metadata": {
    "collapsed": true
   },
   "outputs": [],
   "source": []
  }
 ],
 "metadata": {
  "kernelspec": {
   "display_name": "Python 3",
   "language": "python",
   "name": "python3"
  },
  "language_info": {
   "codemirror_mode": {
    "name": "ipython",
    "version": 3
   },
   "file_extension": ".py",
   "mimetype": "text/x-python",
   "name": "python",
   "nbconvert_exporter": "python",
   "pygments_lexer": "ipython3",
   "version": "3.6.0"
  }
 },
 "nbformat": 4,
 "nbformat_minor": 2
}
