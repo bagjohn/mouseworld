{
 "cells": [
  {
   "cell_type": "code",
   "execution_count": 1,
   "metadata": {
    "collapsed": false
   },
   "outputs": [
    {
     "data": {
      "image/png": "[encoded data removed]",
      "text/plain": [
       "<matplotlib.figure.Figure at 0x7f20bc41fe48>"
      ]
     },
     "metadata": {},
     "output_type": "display_data"
    },
    {
     "name": "stdout",
     "output_type": "stream",
     "text": [
      "0.11406656479\n",
      "2.17278968904e-07\n",
      "1.65154570707e-14\n",
      "1.44696624624e-21\n",
      "8.83088909728e-21\n",
      "1.21559611015e-19\n",
      "1.43224580568e-20\n",
      "9.65282580296e-17\n",
      "2.54836626351e-11\n",
      "0.00488913291917\n",
      "0.0410319989556\n",
      "2.52886475736e-07\n",
      "1.18825401261e-14\n",
      "2.98301812148e-22\n",
      "5.48599868525e-21\n",
      "2.64637334407e-16\n",
      "1.38441099968e-13\n",
      "1.76836577213e-12\n",
      "1.85001428605e-06\n",
      "0.0026220235577\n",
      "0.394275222247\n",
      "0.104065109218\n",
      "0.0332839679001\n",
      "0.011322685075\n",
      "0.00389941869482\n",
      "0.00133363820239\n",
      "0.000449086928308\n",
      "0.000148283668106\n",
      "4.79216094977e-05\n",
      "1.51496804069e-05\n",
      "0.118282566674\n",
      "0.0312195327652\n",
      "0.00998519036979\n",
      "0.0033968055222\n",
      "0.0011698256081\n",
      "0.000400091460366\n",
      "0.000134726078165\n",
      "4.4485100151e-05\n",
      "1.43764826264e-05\n",
      "4.54490395708e-06\n"
     ]
    }
   ],
   "source": [
    "import numpy as np\n",
    "import matplotlib.pyplot as plt\n",
    "from mouseworld.myspace import *\n",
    "# from decimal import *\n",
    "\n",
    "# getcontext().prec = 7\n",
    "\n",
    "grid = Value_layer('example',100,100,True)\n",
    "#grid2 = Value_layer(100,100,True)\n",
    "#grid.add_value((99,99),100)\n",
    "\n",
    "def show(grid) :\n",
    "    cell_values = np.zeros((grid.width, grid.height))\n",
    "    for cell in grid.coord_iter():\n",
    "        cell_value, x, y = cell\n",
    "        cell_values[x][y] = cell_value\n",
    "    plt.imshow(cell_values, interpolation='nearest')\n",
    "    plt.colorbar()\n",
    "    plt.show()\n",
    "\n",
    "#show(grid)\n",
    "for i in range(12) :\n",
    "    grid.add_value((20,80),1)\n",
    "    grid.add_value((i,i),1)\n",
    "    grid.add_value((80,20),0.3)\n",
    "    grid.add_value((50,i),0.3)\n",
    "    grid.diffuse(0.9,0.8)\n",
    "show(grid)\n",
    "\n",
    "for i in range(10) :\n",
    "    print(grid.get_value((i*10+9,i*10+9)))\n",
    "\n",
    "for i in range(10) :\n",
    "    print(grid.get_value((50,i*10+9)))\n",
    "\n",
    "for i in range(10) :\n",
    "    print(grid.get_value((20+i,80+i)))\n",
    "    \n",
    "for i in range(10) :\n",
    "    print(grid.get_value((80+i,20+i)))\n",
    "# print(grid.get_value((90,90)))\n",
    "# print(grid.get_value((96,96)))\n",
    "# print(grid.get_value((97,97)))\n",
    "# print(grid.get_value((98,98)))\n",
    "# print(grid.get_value((99,99)))\n"
   ]
  }
 ],
 "metadata": {
  "kernelspec": {
   "display_name": "Python 3",
   "language": "python",
   "name": "python3"
  },
  "language_info": {
   "codemirror_mode": {
    "name": "ipython",
    "version": 3
   },
   "file_extension": ".py",
   "mimetype": "text/x-python",
   "name": "python",
   "nbconvert_exporter": "python",
   "pygments_lexer": "ipython3",
   "version": "3.6.0"
  }
 },
 "nbformat": 4,
 "nbformat_minor": 2
}
