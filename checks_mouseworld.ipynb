{
 "cells": [
  {
   "cell_type": "code",
   "execution_count": 3,
   "metadata": {
    "collapsed": false,
    "scrolled": false
   },
   "outputs": [
    {
     "name": "stdout",
     "output_type": "stream",
     "text": [
      "Overwriting check_action_history.py\n"
     ]
    }
   ],
   "source": [
    "#%%writefile check_action_history.py\n",
    "from mouseworld import mouseworld\n",
    "import time\n",
    "import matplotlib.pyplot as plt\n",
    "import numpy as np\n",
    "\n",
    "num_mice = 200\n",
    "\n",
    "# Build the model\n",
    "model = mouseworld.Mouseworld(num_mice, 5, 100, 50, 100, 100)\n",
    "\n",
    "\n",
    "# Prepare environment by stepping food and predators and diffusing odors\n",
    "# for i in range(100) :\n",
    "#     model.food_schedule.step()\n",
    "#     model.predator_schedule.step()\n",
    "#     model.diffuse_odor_layers_parallel(model.odor_layers)\n",
    "a=time.time()\n",
    "for i in range(10) :\n",
    "    model.food_schedule.step()\n",
    "    model.predator_schedule.step()\n",
    "    model.diffuse_odor_layers(model.odor_layers)\n",
    "#Run for discrete number of timesteps\n",
    "b=time.time()\n",
    "print(b-a)\n",
    "counter = 0\n",
    "myrange = 1000\n",
    "# for i in range(myrange) :\n",
    "#     c=time.time()\n",
    "#     counter += 1\n",
    "#     model.step()\n",
    "#     d=time.time()\n",
    "#     print('sim step : %i in %f'%(counter, d-c))\n",
    "#t = np.arange(1, myrange*10 +1, 1)\n",
    "#t = np.arange(1, (myrange-2)*10 +1, 1)\n",
    "#Run until all mice perish\n",
    "while model.num_mice > 0 :\n",
    "    c=time.time()\n",
    "    counter += 1\n",
    "    model.step()\n",
    "    d=time.time()\n",
    "    print('sim step : %i in %f'%(counter, d-c))\n",
    "# Gather final model and agent data\n",
    "#model.mousebrain_datacollector.collect(model,model.schedule)\n",
    "#mousebrain_data = model.mousebrain_datacollector.get_agent_vars_dataframe()\n",
    "#mousebrain_data.to_csv('results/mousebrain_data.csv', sep='\\t')\n",
    "model.final_datacollector.collect(model,model.all_mice_schedule)\n",
    "final_model_data = model.final_datacollector.get_model_vars_dataframe()\n",
    "#final_model_data.to_csv('results/final_model_data.csv', sep='\\t')\n",
    "final_agent_data = model.final_datacollector.get_agent_vars_dataframe()\n",
    "\n",
    "print(final_model_data)\n",
    "\n",
    "for i in range(len(final_agent_data)) :\n",
    "    print('Name : %s'%final_agent_data.index[i][1])\n",
    "    print('Age : %i'%final_agent_data['age'][0].values[i])\n",
    "    print('Generation : %i'%final_agent_data['generation'][0].values[i])\n",
    "    print('Offspring : %i'%final_agent_data['num_offspring'][0].values[i])\n",
    "    print('Energy : %f'%final_agent_data['energy'][0].values[i])\n",
    "    print(final_agent_data['action_history'][0].values[i])\n",
    "    #print(final_agent_data['possible_actions'][0].values[i])\n",
    "    print(final_agent_data['primary_values'][0].values[i])\n",
    "    print(final_agent_data['secondary_values'][0].values[i])\n",
    "    print(final_agent_data['sensor_vector'][0].values[i])\n",
    "    print(final_agent_data['sensor_position'][0].values[i])"
   ]
  },
  {
   "cell_type": "code",
   "execution_count": 1,
   "metadata": {
    "collapsed": false
   },
   "outputs": [
    {
     "name": "stderr",
     "output_type": "stream",
     "text": [
      "/home/bagjohn/anaconda3/lib/python3.6/site-packages/nengo/node.py:28: UserWarning: 'Node.size_out' is being overwritten with 'Node.size_in' since 'Node.output=None'\n",
      "  warnings.warn(\"'Node.size_out' is being overwritten with \"\n"
     ]
    },
    {
     "name": "stdout",
     "output_type": "stream",
     "text": [
      "Building finished in 0:00:01.                                                   \n",
      "sim step : 1\n"
     ]
    },
    {
     "name": "stderr",
     "output_type": "stream",
     "text": [
      "/home/bagjohn/Documents/PhD/mouseworld_python/mouseworld/mouse.py:477: SettingWithCopyWarning: \n",
      "A value is trying to be set on a copy of a slice from a DataFrame\n",
      "\n",
      "See the caveats in the documentation: http://pandas.pydata.org/pandas-docs/stable/indexing.html#indexing-view-versus-copy\n",
      "  self.action_history['Distance'][self.action_history.index.max()] += distance\n"
     ]
    },
    {
     "name": "stdout",
     "output_type": "stream",
     "text": [
      "sim step : 2\n"
     ]
    },
    {
     "name": "stderr",
     "output_type": "stream",
     "text": [
      "/home/bagjohn/Documents/PhD/mouseworld_python/mouseworld/mouse.py:320: SettingWithCopyWarning: \n",
      "A value is trying to be set on a copy of a slice from a DataFrame\n",
      "\n",
      "See the caveats in the documentation: http://pandas.pydata.org/pandas-docs/stable/indexing.html#indexing-view-versus-copy\n",
      "  action_history['Duration'][action_history.index.max()] += 1\n"
     ]
    },
    {
     "name": "stdout",
     "output_type": "stream",
     "text": [
      "sim step : 3\n"
     ]
    },
    {
     "ename": "KeyboardInterrupt",
     "evalue": "",
     "output_type": "error",
     "traceback": [
      "\u001b[0;31m---------------------------------------------------------------------------\u001b[0m",
      "\u001b[0;31mKeyboardInterrupt\u001b[0m                         Traceback (most recent call last)",
      "\u001b[0;32m<ipython-input-1-7071e154a198>\u001b[0m in \u001b[0;36m<module>\u001b[0;34m()\u001b[0m\n\u001b[1;32m     26\u001b[0m     \u001b[0mcounter\u001b[0m \u001b[0;34m+=\u001b[0m \u001b[0;36m1\u001b[0m\u001b[0;34m\u001b[0m\u001b[0m\n\u001b[1;32m     27\u001b[0m     \u001b[0mprint\u001b[0m\u001b[0;34m(\u001b[0m\u001b[0;34m'sim step : %i'\u001b[0m\u001b[0;34m%\u001b[0m\u001b[0mcounter\u001b[0m\u001b[0;34m)\u001b[0m\u001b[0;34m\u001b[0m\u001b[0m\n\u001b[0;32m---> 28\u001b[0;31m     \u001b[0mmodel\u001b[0m\u001b[0;34m.\u001b[0m\u001b[0mstep\u001b[0m\u001b[0;34m(\u001b[0m\u001b[0;34m)\u001b[0m\u001b[0;34m\u001b[0m\u001b[0m\n\u001b[0m\u001b[1;32m     29\u001b[0m \u001b[0;31m#t = np.arange(1, myrange*10 +1, 1)\u001b[0m\u001b[0;34m\u001b[0m\u001b[0;34m\u001b[0m\u001b[0m\n\u001b[1;32m     30\u001b[0m \u001b[0;31m#t = np.arange(1, (myrange-2)*10 +1, 1)\u001b[0m\u001b[0;34m\u001b[0m\u001b[0;34m\u001b[0m\u001b[0m\n",
      "\u001b[0;32m/home/bagjohn/Documents/PhD/mouseworld_python/mouseworld/mouseworld.py\u001b[0m in \u001b[0;36mstep\u001b[0;34m(self)\u001b[0m\n\u001b[1;32m    269\u001b[0m         \u001b[0mself\u001b[0m\u001b[0;34m.\u001b[0m\u001b[0mpredator_schedule\u001b[0m\u001b[0;34m.\u001b[0m\u001b[0mstep\u001b[0m\u001b[0;34m(\u001b[0m\u001b[0;34m)\u001b[0m\u001b[0;34m\u001b[0m\u001b[0m\n\u001b[1;32m    270\u001b[0m         \u001b[0;31m#self.diffuse_odor_layers_parallel(self.odor_layers)\u001b[0m\u001b[0;34m\u001b[0m\u001b[0;34m\u001b[0m\u001b[0m\n\u001b[0;32m--> 271\u001b[0;31m         \u001b[0mself\u001b[0m\u001b[0;34m.\u001b[0m\u001b[0mdiffuse_odor_layers\u001b[0m\u001b[0;34m(\u001b[0m\u001b[0mself\u001b[0m\u001b[0;34m.\u001b[0m\u001b[0modor_layers\u001b[0m\u001b[0;34m)\u001b[0m\u001b[0;34m\u001b[0m\u001b[0m\n\u001b[0m\u001b[1;32m    272\u001b[0m         \u001b[0mself\u001b[0m\u001b[0;34m.\u001b[0m\u001b[0mschedule\u001b[0m\u001b[0;34m.\u001b[0m\u001b[0mstep\u001b[0m\u001b[0;34m(\u001b[0m\u001b[0;34m)\u001b[0m\u001b[0;34m\u001b[0m\u001b[0m\n\u001b[1;32m    273\u001b[0m         \u001b[0mself\u001b[0m\u001b[0;34m.\u001b[0m\u001b[0mtest_datacollector\u001b[0m\u001b[0;34m.\u001b[0m\u001b[0mcollect\u001b[0m\u001b[0;34m(\u001b[0m\u001b[0mself\u001b[0m\u001b[0;34m,\u001b[0m \u001b[0mself\u001b[0m\u001b[0;34m.\u001b[0m\u001b[0mschedule\u001b[0m\u001b[0;34m)\u001b[0m\u001b[0;34m\u001b[0m\u001b[0m\n",
      "\u001b[0;32m/home/bagjohn/Documents/PhD/mouseworld_python/mouseworld/mouseworld.py\u001b[0m in \u001b[0;36mdiffuse_odor_layers\u001b[0;34m(self, layers)\u001b[0m\n\u001b[1;32m    256\u001b[0m     \u001b[0;32mdef\u001b[0m \u001b[0mdiffuse_odor_layers\u001b[0m\u001b[0;34m(\u001b[0m\u001b[0mself\u001b[0m\u001b[0;34m,\u001b[0m \u001b[0mlayers\u001b[0m\u001b[0;34m)\u001b[0m \u001b[0;34m:\u001b[0m\u001b[0;34m\u001b[0m\u001b[0m\n\u001b[1;32m    257\u001b[0m         \u001b[0;32mfor\u001b[0m \u001b[0mlayer\u001b[0m \u001b[0;32min\u001b[0m \u001b[0mlayers\u001b[0m \u001b[0;34m:\u001b[0m\u001b[0;34m\u001b[0m\u001b[0m\n\u001b[0;32m--> 258\u001b[0;31m             \u001b[0mlayer\u001b[0m\u001b[0;34m.\u001b[0m\u001b[0mdiffuse\u001b[0m\u001b[0;34m(\u001b[0m\u001b[0;36m0.8\u001b[0m\u001b[0;34m,\u001b[0m\u001b[0;36m0.7\u001b[0m\u001b[0;34m)\u001b[0m\u001b[0;34m\u001b[0m\u001b[0m\n\u001b[0m\u001b[1;32m    259\u001b[0m \u001b[0;34m\u001b[0m\u001b[0m\n\u001b[1;32m    260\u001b[0m     \u001b[0;32mdef\u001b[0m \u001b[0mdiffuse_odor_layers_parallel\u001b[0m\u001b[0;34m(\u001b[0m\u001b[0mself\u001b[0m\u001b[0;34m,\u001b[0m \u001b[0mlayers\u001b[0m\u001b[0;34m)\u001b[0m \u001b[0;34m:\u001b[0m\u001b[0;34m\u001b[0m\u001b[0m\n",
      "\u001b[0;32m/home/bagjohn/Documents/PhD/mouseworld_python/mouseworld/myspace.py\u001b[0m in \u001b[0;36mdiffuse\u001b[0;34m(self, evap_const, diff_const)\u001b[0m\n\u001b[1;32m    607\u001b[0m         \u001b[0;32mfor\u001b[0m \u001b[0mrow\u001b[0m \u001b[0;32min\u001b[0m \u001b[0mrange\u001b[0m\u001b[0;34m(\u001b[0m\u001b[0mself\u001b[0m\u001b[0;34m.\u001b[0m\u001b[0mwidth\u001b[0m\u001b[0;34m)\u001b[0m\u001b[0;34m:\u001b[0m\u001b[0;34m\u001b[0m\u001b[0m\n\u001b[1;32m    608\u001b[0m             \u001b[0;32mfor\u001b[0m \u001b[0mcol\u001b[0m \u001b[0;32min\u001b[0m \u001b[0mrange\u001b[0m\u001b[0;34m(\u001b[0m\u001b[0mself\u001b[0m\u001b[0;34m.\u001b[0m\u001b[0mheight\u001b[0m\u001b[0;34m)\u001b[0m\u001b[0;34m:\u001b[0m\u001b[0;34m\u001b[0m\u001b[0m\n\u001b[0;32m--> 609\u001b[0;31m                 \u001b[0mself\u001b[0m\u001b[0;34m.\u001b[0m\u001b[0mgrid\u001b[0m\u001b[0;34m[\u001b[0m\u001b[0mrow\u001b[0m\u001b[0;34m]\u001b[0m\u001b[0;34m[\u001b[0m\u001b[0mcol\u001b[0m\u001b[0;34m]\u001b[0m \u001b[0;34m=\u001b[0m \u001b[0mevap_const\u001b[0m \u001b[0;34m*\u001b[0m \u001b[0;34m(\u001b[0m\u001b[0mold\u001b[0m\u001b[0;34m[\u001b[0m\u001b[0mrow\u001b[0m\u001b[0;34m]\u001b[0m\u001b[0;34m[\u001b[0m\u001b[0mcol\u001b[0m\u001b[0;34m]\u001b[0m \u001b[0;34m+\u001b[0m \u001b[0mdiff_const\u001b[0m \u001b[0;34m*\u001b[0m \u001b[0;34m(\u001b[0m\u001b[0mself\u001b[0m\u001b[0;34m.\u001b[0m\u001b[0mavg_neighborhood\u001b[0m\u001b[0;34m(\u001b[0m\u001b[0mold\u001b[0m\u001b[0;34m,\u001b[0m\u001b[0;34m(\u001b[0m\u001b[0mrow\u001b[0m\u001b[0;34m,\u001b[0m\u001b[0mcol\u001b[0m\u001b[0;34m)\u001b[0m\u001b[0;34m)\u001b[0m \u001b[0;34m-\u001b[0m \u001b[0mold\u001b[0m\u001b[0;34m[\u001b[0m\u001b[0mrow\u001b[0m\u001b[0;34m]\u001b[0m\u001b[0;34m[\u001b[0m\u001b[0mcol\u001b[0m\u001b[0;34m]\u001b[0m\u001b[0;34m)\u001b[0m\u001b[0;34m)\u001b[0m\u001b[0;34m\u001b[0m\u001b[0m\n\u001b[0m\u001b[1;32m    610\u001b[0m \u001b[0;34m\u001b[0m\u001b[0m\n\u001b[1;32m    611\u001b[0m \u001b[0;34m\u001b[0m\u001b[0m\n",
      "\u001b[0;32m/home/bagjohn/Documents/PhD/mouseworld_python/mouseworld/myspace.py\u001b[0m in \u001b[0;36mavg_neighborhood\u001b[0;34m(self, grid, pos)\u001b[0m\n\u001b[1;32m    577\u001b[0m                     \u001b[0;32mcontinue\u001b[0m\u001b[0;34m\u001b[0m\u001b[0m\n\u001b[1;32m    578\u001b[0m \u001b[0;34m\u001b[0m\u001b[0m\n\u001b[0;32m--> 579\u001b[0;31m                 \u001b[0mpx\u001b[0m \u001b[0;34m=\u001b[0m \u001b[0mx\u001b[0m \u001b[0;34m+\u001b[0m \u001b[0mdx\u001b[0m\u001b[0;34m\u001b[0m\u001b[0m\n\u001b[0m\u001b[1;32m    580\u001b[0m                 \u001b[0mpx\u001b[0m \u001b[0;34m%=\u001b[0m \u001b[0mself\u001b[0m\u001b[0;34m.\u001b[0m\u001b[0mwidth\u001b[0m\u001b[0;34m\u001b[0m\u001b[0m\n\u001b[1;32m    581\u001b[0m                 \u001b[0mpy\u001b[0m \u001b[0;34m=\u001b[0m \u001b[0my\u001b[0m \u001b[0;34m+\u001b[0m \u001b[0mdy\u001b[0m\u001b[0;34m\u001b[0m\u001b[0m\n",
      "\u001b[0;31mKeyboardInterrupt\u001b[0m: "
     ]
    }
   ],
   "source": [
    "#%%writefile check_mousebrain.py\n",
    "\n",
    "from mouseworld import mouseworld\n",
    "import time\n",
    "\n",
    "import matplotlib.pyplot as plt\n",
    "import numpy as np\n",
    "\n",
    "# Build the model\n",
    "model = mouseworld.Mouseworld(1, 5, 0, 0, 100, 100)\n",
    "\n",
    "\n",
    "# Prepare environment by stepping food and predators and diffusing odors\n",
    "# for i in range(100) :\n",
    "#     model.food_schedule.step()\n",
    "#     model.predator_schedule.step()\n",
    "#     model.diffuse_odor_layers_parallel(model.odor_layers)\n",
    "# for i in range(10) :\n",
    "#     model.food_schedule.step()\n",
    "#     model.predator_schedule.step()\n",
    "#     model.diffuse_odor_layers_parallel(model.odor_layers)\n",
    "#Run for discrete number of timesteps\n",
    "counter = 0\n",
    "myrange = 20\n",
    "for i in range(myrange) :\n",
    "    counter += 1\n",
    "    print('sim step : %i'%counter)\n",
    "    model.step()\n",
    "#t = np.arange(1, myrange*10 +1, 1)\n",
    "#t = np.arange(1, (myrange-2)*10 +1, 1)\n",
    "# Run until all mice perish\n",
    "# while model.num_mice > 0 :\n",
    "#     print('sim step : %i'%counter)\n",
    "#     model.step()\n",
    "    \n",
    "# Gather final model and agent data\n",
    "model.mousebrain_datacollector.collect(model,model.schedule)\n",
    "mousebrain_data = model.mousebrain_datacollector.get_agent_vars_dataframe()\n",
    "#mousebrain_data.to_csv('results/mousebrain_data.csv', sep='\\t')\n",
    "\n",
    "odor = mousebrain_data['odor'][0].values[0]\n",
    "state = mousebrain_data['state'][0].values[0]\n",
    "approach = mousebrain_data['approach'][0].values[0]\n",
    "avoid = mousebrain_data['avoid'][0].values[0]\n",
    "search = mousebrain_data['search'][0].values[0]\n",
    "change = mousebrain_data['change'][0].values[0]\n",
    "errors0 = mousebrain_data['errors0'][0].values[0]\n",
    "errors1 = mousebrain_data['errors1'][0].values[0]\n",
    "errors2 = mousebrain_data['errors2'][0].values[0]\n",
    "\n",
    "# print (type(a))\n",
    "# print(a)\n",
    "\n",
    "odor1 = [row[0] for row in odor]\n",
    "odor2 = [row[1] for row in odor]\n",
    "\n",
    "approach1 = [row[0] for row in approach]\n",
    "approach2 = [row[1] for row in approach]\n",
    "\n",
    "avoid1 = [row[0] for row in avoid]\n",
    "avoid2 = [row[1] for row in avoid]\n",
    "\n",
    "search1 = [row[0] for row in search]\n",
    "search2 = [row[1] for row in search]\n",
    "\n",
    "\n",
    "\n",
    "state0 = [row[0] for row in state]\n",
    "state1 = [row[1] for row in state]\n",
    "state2 = [row[2] for row in state]\n",
    "\n",
    "data = []\n",
    "\n",
    "data.append(odor1)\n",
    "data.append(odor2)\n",
    "data.append(change)\n",
    "data.append(search)\n",
    "data.append(errors0)\n",
    "data.append(errors1)\n",
    "data.append(errors2)\n",
    "\n",
    "data.append(avoid)\n",
    "data.append(approach)\n",
    "# plt.plot(t, odor, 'r--', t, state, 'r--', t, avoid, 'r--',\n",
    "#          t, avoid, 'r--', t, search, 'r--', t, errors0, 'r--',\n",
    "#          t, errors0, 'r--', t, errors1, 'r--', t, errors2, 'r--')\n",
    "\n",
    "# plt.plot(odor1, color='blue', odor2, color = 'red', approach1, color = 'green', approach2, color = 'black')\n",
    "# plt.show()\n",
    "#x = np.linspace(0, 1, 10)\n",
    "for i in [3]:\n",
    "    plt.plot(data[i], label='$data{i}$'.format(i=i))\n",
    "plt.legend(loc='best')\n",
    "plt.show()\n",
    "\n",
    "for i in [2,4]:\n",
    "    plt.plot(data[i], label='$data{i}$'.format(i=i))\n",
    "plt.legend(loc='best')\n",
    "plt.show()\n",
    "\n",
    "for i in [2,5]:\n",
    "    plt.plot(data[i], label='$data{i}$'.format(i=i))\n",
    "plt.legend(loc='best')\n",
    "plt.show()\n",
    "\n",
    "for i in [2,6]:\n",
    "    plt.plot(data[i], label='$data{i}$'.format(i=i))\n",
    "plt.legend(loc='best')\n",
    "plt.show()\n",
    "\n",
    "plt.plot(odor1, 'bs', change, 'r--')\n",
    "plt.show()\n",
    "\n",
    "plt.plot(errors0, 'bs', errors1, 'r--', errors2, 'g^')\n",
    "plt.show()\n",
    "\n",
    "# plt.plot(search1, 'bs', search2, 'r--')\n",
    "# plt.show()\n",
    "\n",
    "plt.plot(approach1, 'bs', approach2, 'r--')\n",
    "plt.show()\n",
    "\n",
    "plt.plot(state0, 'bs', state1, 'r--', state2, 'g^')\n",
    "plt.show()\n",
    "\n",
    "plt.plot(odor1, 'bs', odor2, 'r--')\n",
    "plt.show()"
   ]
  },
  {
   "cell_type": "code",
   "execution_count": null,
   "metadata": {
    "collapsed": true
   },
   "outputs": [],
   "source": []
  }
 ],
 "metadata": {
  "kernelspec": {
   "display_name": "Python 3",
   "language": "python",
   "name": "python3"
  },
  "language_info": {
   "codemirror_mode": {
    "name": "ipython",
    "version": 3
   },
   "file_extension": ".py",
   "mimetype": "text/x-python",
   "name": "python",
   "nbconvert_exporter": "python",
   "pygments_lexer": "ipython3",
   "version": "3.6.0"
  }
 },
 "nbformat": 4,
 "nbformat_minor": 2
}
