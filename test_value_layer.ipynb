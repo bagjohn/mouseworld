{
 "cells": [
  {
   "cell_type": "code",
   "execution_count": 15,
   "metadata": {
    "collapsed": false
   },
   "outputs": [
    {
     "data": {
      "image/png": "[encoded data removed]",
      "text/plain": [
       "<matplotlib.figure.Figure at 0x7f639b6dd7f0>"
      ]
     },
     "metadata": {},
     "output_type": "display_data"
    },
    {
     "name": "stdout",
     "output_type": "stream",
     "text": [
      "0.153588057527258\n",
      "0.004506721083114133\n",
      "0.000169440544555695\n",
      "7.131355400225807e-06\n",
      "2.782548482248376e-07\n",
      "8.064485822165992e-09\n",
      "1.379548418694889e-10\n"
     ]
    }
   ],
   "source": [
    "import numpy as np\n",
    "import matplotlib.pyplot as plt\n",
    "from mouseworld.myspace import *\n",
    "# from decimal import *\n",
    "\n",
    "# getcontext().prec = 7\n",
    "\n",
    "grid = Value_layer('example',100,100,True)\n",
    "#grid2 = Value_layer(100,100,True)\n",
    "#grid.add_value((99,99),100)\n",
    "\n",
    "def show(grid) :\n",
    "    cell_values = np.zeros((grid.width, grid.height))\n",
    "    for cell in grid.coord_iter():\n",
    "        cell_value, x, y = cell\n",
    "        cell_values[x][y] = cell_value\n",
    "    plt.imshow(cell_values, interpolation='nearest')\n",
    "    plt.colorbar()\n",
    "    plt.show()\n",
    "\n",
    "#show(grid)\n",
    "for i in range(100) :\n",
    "    grid.add_value((50,50),0.3)\n",
    "    grid.diffuse(0.95,0.8)\n",
    "show(grid)\n",
    "print(grid.get_value((50,50)))\n",
    "print(grid.get_value((45,45)))\n",
    "print(grid.get_value((40,40)))\n",
    "print(grid.get_value((35,35)))\n",
    "print(grid.get_value((30,30)))\n",
    "print(grid.get_value((25,25)))\n",
    "print(grid.get_value((20,20)))\n"
   ]
  },
  {
   "cell_type": "code",
   "execution_count": 2,
   "metadata": {
    "collapsed": false
   },
   "outputs": [
    {
     "data": {
      "text/plain": [
       "0"
      ]
     },
     "execution_count": 2,
     "metadata": {},
     "output_type": "execute_result"
    }
   ],
   "source": [
    "from mouseworld.myspace import *\n",
    "\n",
    "grid = Value_layer('dada',100,100,True)\n",
    "grid.get_value((50,50))"
   ]
  },
  {
   "cell_type": "code",
   "execution_count": 14,
   "metadata": {
    "collapsed": false
   },
   "outputs": [
    {
     "data": {
      "text/plain": [
       "Context(prec=7, rounding=ROUND_HALF_EVEN, Emin=-999999, Emax=999999, capitals=1, clamp=0, flags=[], traps=[InvalidOperation, DivisionByZero, Overflow])"
      ]
     },
     "execution_count": 14,
     "metadata": {},
     "output_type": "execute_result"
    }
   ],
   "source": [
    "from decimal import *\n",
    "getcontext().prec = 7\n",
    "getcontext()"
   ]
  }
 ],
 "metadata": {
  "kernelspec": {
   "display_name": "Python 3",
   "language": "python",
   "name": "python3"
  },
  "language_info": {
   "codemirror_mode": {
    "name": "ipython",
    "version": 3
   },
   "file_extension": ".py",
   "mimetype": "text/x-python",
   "name": "python",
   "nbconvert_exporter": "python",
   "pygments_lexer": "ipython3",
   "version": "3.6.0"
  }
 },
 "nbformat": 4,
 "nbformat_minor": 2
}
