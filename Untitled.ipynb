{
 "cells": [
  {
   "cell_type": "code",
   "execution_count": 2,
   "metadata": {
    "collapsed": false
   },
   "outputs": [
    {
     "name": "stdout",
     "output_type": "stream",
     "text": [
      "False\n"
     ]
    },
    {
     "data": {
      "text/plain": [
       "[5, 7]"
      ]
     },
     "execution_count": 2,
     "metadata": {},
     "output_type": "execute_result"
    }
   ],
   "source": [
    "cellmates=[1,3,5,7]\n",
    "mice_cellmates = [x for x in cellmates if x>4]\n",
    "if not mice_cellmates :\n",
    "    print('True')\n",
    "else : \n",
    "    print('False')\n",
    "mice_cellmates"
   ]
  },
  {
   "cell_type": "code",
   "execution_count": 11,
   "metadata": {
    "collapsed": false
   },
   "outputs": [
    {
     "ename": "KeyError",
     "evalue": "2",
     "output_type": "error",
     "traceback": [
      "\u001b[0;31m---------------------------------------------------------------------------\u001b[0m",
      "\u001b[0;31mKeyError\u001b[0m                                  Traceback (most recent call last)",
      "\u001b[0;32m<ipython-input-11-45309ff7b006>\u001b[0m in \u001b[0;36m<module>\u001b[0;34m()\u001b[0m\n\u001b[1;32m      1\u001b[0m \u001b[0mvalues\u001b[0m \u001b[0;34m=\u001b[0m \u001b[0mdict\u001b[0m\u001b[0;34m(\u001b[0m\u001b[0mzip\u001b[0m\u001b[0;34m(\u001b[0m\u001b[0;34m[\u001b[0m\u001b[0;34m'sa'\u001b[0m\u001b[0;34m,\u001b[0m \u001b[0;34m'ds'\u001b[0m\u001b[0;34m,\u001b[0m \u001b[0;34m'fd'\u001b[0m\u001b[0;34m,\u001b[0m \u001b[0;34m'gf'\u001b[0m\u001b[0;34m,\u001b[0m \u001b[0;34m'hg'\u001b[0m\u001b[0;34m]\u001b[0m\u001b[0;34m,\u001b[0m \u001b[0;34m[\u001b[0m\u001b[0;36m0\u001b[0m\u001b[0;34m]\u001b[0m\u001b[0;34m*\u001b[0m\u001b[0;36m5\u001b[0m\u001b[0;34m)\u001b[0m\u001b[0;34m)\u001b[0m\u001b[0;34m\u001b[0m\u001b[0m\n\u001b[0;32m----> 2\u001b[0;31m \u001b[0mvalues\u001b[0m\u001b[0;34m[\u001b[0m\u001b[0;36m2\u001b[0m\u001b[0;34m]\u001b[0m\u001b[0;34m\u001b[0m\u001b[0m\n\u001b[0m",
      "\u001b[0;31mKeyError\u001b[0m: 2"
     ]
    }
   ],
   "source": [
    "\n",
    "import numpy as np\n",
    "import matplotlib.pyplot as plt\n",
    "\n",
    "import nengo\n",
    "\n",
    "\n",
    "def build_mousebrain(mouse):\n",
    "        \n",
    "    mousebrain  = nengo.Network()\n",
    "    with mousebrain:\n",
    "        odor = nengo.Node(mouse.input_manager.return_value,size_out = 2)\n",
    "                \n",
    "        state = nengo.Node(mouse.input_manager.return_state,size_out = 3)\n",
    "        \n",
    "        odor_neurons = nengo.Ensemble(n_neurons=50, dimensions=2, radius=1)\n",
    "        nengo.Connection(odor, odor_neurons, synapse = None)\n",
    "\n",
    "        odor_memory = nengo.Ensemble(n_neurons=200, dimensions=2)\n",
    "        nengo.Connection(odor[0], odor_memory[0], transform = 1, synapse=None)\n",
    "        nengo.Connection(odor_memory[0], odor_memory[1], transform = 1, synapse=0.3)\n",
    "        #nengo.Connection(odor_memory[1], odor_memory[0], transform = -0.5, synapse=0.3)\n",
    "\n",
    "        odor_change = nengo.Ensemble(n_neurons = 200, dimensions = 1, radius=0.1,  \n",
    "                        max_rates=nengo.dists.Uniform(300, 400), intercepts=nengo.dists.Uniform(0, 0.1))\n",
    "        nengo.Connection(odor_memory[0], odor_change, transform = 1, synapse=0.01)\n",
    "        nengo.Connection(odor_memory[1], odor_change, transform = -1, synapse=0.01)\n",
    "        #nengo.Connection(odor_neurons[0], odor_change, transform = -0.1, synapse=0.1)\n",
    "\n",
    "        #hub = nengo.Node(size_in = 1,size_out=3)\n",
    "        errors = nengo.networks.EnsembleArray(n_neurons=50, n_ensembles=3, ens_dimensions=2)\n",
    "        #nengo.Connection(odor_change, hub)\n",
    "        nengo.Connection(odor_change, errors.input, transform = [[1]]*6)\n",
    "        nengo.Connection(state[0], errors.ensembles[0].neurons, transform=np.ones((50,1))*1)\n",
    "        nengo.Connection(state[1], errors.ensembles[1].neurons, transform=np.ones((50,1))*1)\n",
    "        nengo.Connection(state[2], errors.ensembles[2].neurons, transform=np.ones((50,1))*1)\n",
    "\n",
    "        #nengo.Connection(odor_memory, odor_change[0], transform = -10, synapse=None)\n",
    "        #nengo.Connection(odor_neurons[0], odor_change[0], transform = 10, synapse=None)\n",
    "        #nengo.Connection(odor_memory, odor_change[1], transform = -10, synapse=None)\n",
    "        #nengo.Connection(odor_neurons[0], odor_change[1], transform = 10, synapse=None)\n",
    "\n",
    "        #reward = nengo.Node(size_in = 1)\n",
    "        #nengo.Connection(odor_memory, reward, transform = -10, synapse=0.05)\n",
    "        #nengo.Connection(odor_neurons[0], reward, transform = 10, synapse=0.05)\n",
    "\n",
    "        #odor2motor = nengo.Ensemble(n_neurons=100, dimensions=2, radius=2, seed=2, \n",
    "        # yy          noise=nengo.processes.WhiteSignal(10, 0.1, rms=1))\n",
    "        #odor2motor = nengo.Ensemble(n_neurons=200, dimensions=3, radius=2)\n",
    "\n",
    "        #nengo.Connection(odor_change, odor2motor[0],synapse=0.01)\n",
    "\n",
    "        approach_neurons = nengo.Ensemble(n_neurons=200, dimensions=2)\n",
    "        avoid_neurons = nengo.Ensemble(n_neurons=200, dimensions=2)\n",
    "        search_neurons = nengo.Ensemble(n_neurons=200, dimensions=2)\n",
    "        #nengo.Connection(odor_neurons[0], odor2motor[0],synapse=0.01)\n",
    "        #nengo.Connection(odor_neurons[1], odor2motor[1],synapse=0.01)\n",
    "\n",
    "        approach_node = nengo.Node(size_in=2, size_out = 2)\n",
    "        avoid_node = nengo.Node(size_in=2, size_out = 2)\n",
    "        search_node = nengo.Node(size_in=2, size_out = 2)\n",
    "        \n",
    "        # Arbitrary, intuitive functions are implemented as initialization for the various ensembles.\n",
    "        # Input: x[0] for mean stimulus strength (higher when closer to the source)\n",
    "        # Input: x[1] for left-right stimulus (positive when source to the left)\n",
    "        # Turning is implemented by default to the right\n",
    "        # When approaching we need high speed when low input and turning towards source\n",
    "        def approach(x):\n",
    "            spd = np.exp(-x[0])\n",
    "            turn = -x[1]\n",
    "            return spd, turn\n",
    "\n",
    "        def avoid(x) :\n",
    "            spd = np.exp(x[0])-1    \n",
    "            turn = x[1]        \n",
    "            return spd, turn\n",
    "\n",
    "        def search(x) :\n",
    "            spd = 1\n",
    "            turn = 0\n",
    "            return spd, turn\n",
    "\n",
    "        #nengo.Connection(odor2motor, motor_neurons, function=braiten) \n",
    "        conn_approach = nengo.Connection(odor_neurons, approach_neurons, function=approach, \n",
    "                    learning_rule_type=nengo.PES(learning_rate=1e-4, pre_tau=0.1))\n",
    "        conn_avoid = nengo.Connection(odor_neurons, avoid_neurons, function=avoid, \n",
    "                    learning_rule_type=nengo.PES(learning_rate=1e-4, pre_tau=0.1))\n",
    "        conn_search = nengo.Connection(odor_neurons, search_neurons, function=search, \n",
    "                    learning_rule_type=nengo.PES(learning_rate=1e-4, pre_tau=0.1))\n",
    "\n",
    "        nengo.Connection(errors.ensembles[0], conn_approach.learning_rule, synapse = 0.01)\n",
    "        nengo.Connection(errors.ensembles[1], conn_avoid.learning_rule, synapse = 0.01)\n",
    "        nengo.Connection(errors.ensembles[2], conn_search.learning_rule, synapse = 0.01)\n",
    "\n",
    "        \n",
    "        \n",
    "        nengo.Connection(approach_neurons, approach_node) \n",
    "        nengo.Connection(avoid_neurons, avoid_node) \n",
    "        nengo.Connection(search_neurons, search_node) \n",
    "        #learning = nengo.Node(size_out = 2, output = [-1,-1])\n",
    "        #nengo.Connection(learning, conn.learning_rule, synapse=None)  \n",
    "\n",
    "        mousebrain.p_approach = nengo.Probe(approach_node)\n",
    "        mousebrain.p_avoid = nengo.Probe(avoid_node)\n",
    "        mousebrain.p_search = nengo.Probe(search_node)\n",
    "\n",
    "        \n",
    "    return mousebrain\n",
    "\n",
    "o = build_mousebrain()"
   ]
  }
 ],
 "metadata": {
  "kernelspec": {
   "display_name": "Python 3",
   "language": "python",
   "name": "python3"
  },
  "language_info": {
   "codemirror_mode": {
    "name": "ipython",
    "version": 3
   },
   "file_extension": ".py",
   "mimetype": "text/x-python",
   "name": "python",
   "nbconvert_exporter": "python",
   "pygments_lexer": "ipython3",
   "version": "3.6.0"
  }
 },
 "nbformat": 4,
 "nbformat_minor": 2
}
