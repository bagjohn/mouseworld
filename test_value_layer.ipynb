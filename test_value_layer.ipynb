{
 "cells": [
  {
   "cell_type": "code",
   "execution_count": 6,
   "metadata": {
    "collapsed": false
   },
   "outputs": [
    {
     "data": {
      "image/png": "[encoded data removed]",
      "text/plain": [
       "<matplotlib.figure.Figure at 0x7f1073331ac8>"
      ]
     },
     "metadata": {},
     "output_type": "display_data"
    },
    {
     "name": "stdout",
     "output_type": "stream",
     "text": [
      "0.418132850913\n",
      "0.0675999099915\n",
      "0.0136379040767\n",
      "0.00307108334896\n",
      "0.000729070226918\n",
      "0.000178075682553\n",
      "4.42691153656e-05\n",
      "1.11398617241e-05\n",
      "2.82854494562e-06\n",
      "7.23212180981e-07\n"
     ]
    }
   ],
   "source": [
    "import numpy as np\n",
    "import matplotlib.pyplot as plt\n",
    "from mouseworld.myspace import *\n",
    "# from decimal import *\n",
    "\n",
    "# getcontext().prec = 7\n",
    "\n",
    "grid = Value_layer('example',100,100,True)\n",
    "#grid2 = Value_layer(100,100,True)\n",
    "#grid.add_value((99,99),100)\n",
    "\n",
    "def show(grid) :\n",
    "    cell_values = np.zeros((grid.width, grid.height))\n",
    "    for cell in grid.coord_iter():\n",
    "        cell_value, x, y = cell\n",
    "        cell_values[x][y] = cell_value\n",
    "    plt.imshow(cell_values, interpolation='nearest')\n",
    "    plt.colorbar()\n",
    "    plt.show()\n",
    "\n",
    "#show(grid)\n",
    "for i in range(100) :\n",
    "    grid.add_value((20,80),1)\n",
    "    grid.add_value((i,i),1)\n",
    "    grid.add_value((80,20),0.3)\n",
    "    grid.add_value((50,i),0.3)\n",
    "    grid.diffuse(0.8,0.7)\n",
    "show(grid)\n",
    "\n",
    "# for i in range(10) :\n",
    "#     print(grid.get_value((i*10+9,i*10+9)))\n",
    "\n",
    "# for i in range(10) :\n",
    "#     print(grid.get_value((50,i*10+9)))\n",
    "\n",
    "for i in range(10) :\n",
    "    print(grid.get_value((20+i,80+i)))\n",
    "    \n",
    "# for i in range(10) :\n",
    "#     print(grid.get_value((80+i,20+i)))\n",
    "# print(grid.get_value((90,90)))\n",
    "# print(grid.get_value((96,96)))\n",
    "# print(grid.get_value((97,97)))\n",
    "# print(grid.get_value((98,98)))\n",
    "# print(grid.get_value((99,99)))\n"
   ]
  },
  {
   "cell_type": "code",
   "execution_count": null,
   "metadata": {
    "collapsed": true
   },
   "outputs": [],
   "source": []
  }
 ],
 "metadata": {
  "kernelspec": {
   "display_name": "Python 3",
   "language": "python",
   "name": "python3"
  },
  "language_info": {
   "codemirror_mode": {
    "name": "ipython",
    "version": 3
   },
   "file_extension": ".py",
   "mimetype": "text/x-python",
   "name": "python",
   "nbconvert_exporter": "python",
   "pygments_lexer": "ipython3",
   "version": "3.6.0"
  }
 },
 "nbformat": 4,
 "nbformat_minor": 2
}
