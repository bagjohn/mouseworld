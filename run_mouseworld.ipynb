{
 "cells": [
  {
   "cell_type": "code",
   "execution_count": 1,
   "metadata": {
    "collapsed": false
   },
   "outputs": [
    {
     "name": "stdout",
     "output_type": "stream",
     "text": [
      "Overwriting mouseworld_run.py\n"
     ]
    }
   ],
   "source": [
    "%%writefile mouseworld_run.py\n",
    "\n",
    "from mouseworld import mouseworld\n",
    "import time\n",
    "\n",
    "# Build the model\n",
    "model = mouseworld.Mouseworld([0, 0, 100], 100, 40, 100, 100)\n",
    "\n",
    "# Gather initial randomly distributed data\n",
    "model.initial_datacollector.collect(model,model.schedule)\n",
    "initial_model_data = model.initial_datacollector.get_model_vars_dataframe()\n",
    "initial_model_data.to_csv('results/initial_model_data.csv', sep='\\t')\n",
    "\n",
    "# Prepare environment by stepping food and predators and diffusing odors\n",
    "for i in range(100) :\n",
    "    model.food_schedule.step()\n",
    "    model.predator_schedule.step()\n",
    "    model.diffuse_odor_layers_parallel(model.odor_layers)\n",
    "\n",
    "# Run for discrete number of timesteps\n",
    "# counter = 0\n",
    "# for i in range(20) :\n",
    "#     counter += 1\n",
    "#     print('sim step : %i'%counter)\n",
    "#     model.step()\n",
    "\n",
    "# Run until all mice perish\n",
    "# while model.num_mice > 0 :\n",
    "#     print('sim step : %i'%counter)\n",
    "#     model.step()\n",
    "    \n",
    "# Gather final model and agent data\n",
    "model.final_datacollector.collect(model,model.schedule)\n",
    "final_model_data = model.final_datacollector.get_model_vars_dataframe()\n",
    "final_model_data.to_csv('results/final_model_data.csv', sep='\\t')\n",
    "final_agent_data = model.final_datacollector.get_agent_vars_dataframe()\n",
    "final_agent_data.to_csv('results/final_agent_data.csv', sep='\\t')\n",
    "\n",
    "# Gather test model and agent data\n",
    "test_agent_data = model.test_datacollector.get_agent_vars_dataframe()\n",
    "test_agent_data.to_csv('results/test_agent_data.csv', sep='\\t')\n"
   ]
  },
  {
   "cell_type": "code",
   "execution_count": 2,
   "metadata": {
    "collapsed": false
   },
   "outputs": [
    {
     "name": "stdout",
     "output_type": "stream",
     "text": [
      "Overwriting mouseworld_run2.py\n"
     ]
    }
   ],
   "source": [
    "%%writefile mouseworld_run2.py\n",
    "\n",
    "from mouseworld import mouseworld\n",
    "\n",
    "\n",
    "# Build the model\n",
    "model = mouseworld.Mouseworld([0, 0, 10], 100, 40, 100, 100)\n",
    "\n",
    "# Run for discrete number of timesteps\n",
    "\n",
    "for i in range(1) :\n",
    "\n",
    "    model.step()\n",
    "\n",
    "\n"
   ]
  },
  {
   "cell_type": "code",
   "execution_count": 3,
   "metadata": {
    "collapsed": false
   },
   "outputs": [
    {
     "name": "stdout",
     "output_type": "stream",
     "text": [
      "Overwriting plot_genome.py\n"
     ]
    }
   ],
   "source": [
    "%%writefile plot_genome.py\n",
    "\n",
    "from mouseworld import mouseworld\n",
    "import time\n",
    "import matplotlib.pyplot as plt\n",
    "import numpy as np\n",
    "\n",
    "# Build the model\n",
    "model = mouseworld.Mouseworld([0, 0, 100], 100, 40, 100, 100)\n",
    "genome = model.initialization_genome\n",
    "fig = plt.figure()\n",
    "num_genes = genome[0].size\n",
    "for i in range(num_genes) :\n",
    "    x = genome[:,i]\n",
    "    ax = fig.add_subplot(3,3,(i+1))\n",
    "    n, bins, patches = ax.hist(x, 20, normed=1, facecolor='g', alpha=0.75)\n",
    "\n",
    "\n",
    "#plt.xlabel('Gene value')\n",
    "#plt.ylabel('Probability')\n",
    "#plt.title('Histogram of gene distribution')\n",
    "#plt.text(60, .025, r'$\\mu=100,\\ \\sigma=15$')\n",
    "#plt.axis([0, 1, 0, 20])\n",
    "#plt.grid(True)\n",
    "plt.show()\n",
    "\n"
   ]
  },
  {
   "cell_type": "code",
   "execution_count": null,
   "metadata": {
    "collapsed": true
   },
   "outputs": [],
   "source": []
  }
 ],
 "metadata": {
  "kernelspec": {
   "display_name": "Python 3",
   "language": "python",
   "name": "python3"
  },
  "language_info": {
   "codemirror_mode": {
    "name": "ipython",
    "version": 3
   },
   "file_extension": ".py",
   "mimetype": "text/x-python",
   "name": "python",
   "nbconvert_exporter": "python",
   "pygments_lexer": "ipython3",
   "version": "3.6.0"
  }
 },
 "nbformat": 4,
 "nbformat_minor": 2
}
